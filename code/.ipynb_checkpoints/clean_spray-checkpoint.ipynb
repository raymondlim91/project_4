{
 "cells": [
  {
   "cell_type": "markdown",
   "id": "bf94f838-0bdf-43e3-a994-bc705739aaeb",
   "metadata": {
    "id": "bf94f838-0bdf-43e3-a994-bc705739aaeb"
   },
   "source": [
    "# Clean Spray Data\n",
    "\n",
    "In this notebook, we will be looking and cleaning the `spray.csv` file that is found in the Kaggle competition."
   ]
  },
  {
   "cell_type": "code",
   "execution_count": 1,
   "id": "118159f9-e209-4bc7-9151-74227869bc31",
   "metadata": {
    "executionInfo": {
     "elapsed": 8,
     "status": "ok",
     "timestamp": 1645258096688,
     "user": {
      "displayName": "Liong Chee Tzen",
      "photoUrl": "https://lh3.googleusercontent.com/a/default-user=s64",
      "userId": "02167438426803883351"
     },
     "user_tz": -480
    },
    "id": "118159f9-e209-4bc7-9151-74227869bc31"
   },
   "outputs": [],
   "source": [
    "# For Calculation and Data Manipulation\n",
    "import numpy as np\n",
    "import pandas as pd\n",
    "# import datetime"
   ]
  },
  {
   "cell_type": "code",
   "execution_count": 2,
   "id": "a2d38ff8-48bd-4901-95f0-d068c39eb797",
   "metadata": {
    "executionInfo": {
     "elapsed": 7,
     "status": "ok",
     "timestamp": 1645258105798,
     "user": {
      "displayName": "Liong Chee Tzen",
      "photoUrl": "https://lh3.googleusercontent.com/a/default-user=s64",
      "userId": "02167438426803883351"
     },
     "user_tz": -480
    },
    "id": "a2d38ff8-48bd-4901-95f0-d068c39eb797"
   },
   "outputs": [],
   "source": [
    "# both file will be located in the same folder\n",
    "original_filename = '../data/spray.csv'\n",
    "clean_filename = '../data/cleaned_spray.csv'"
   ]
  },
  {
   "cell_type": "code",
   "execution_count": 3,
   "id": "780f2b73-07f4-491a-a9fe-86de422919c8",
   "metadata": {
    "colab": {
     "base_uri": "https://localhost:8080/",
     "height": 392
    },
    "executionInfo": {
     "elapsed": 359,
     "status": "error",
     "timestamp": 1645258109803,
     "user": {
      "displayName": "Liong Chee Tzen",
      "photoUrl": "https://lh3.googleusercontent.com/a/default-user=s64",
      "userId": "02167438426803883351"
     },
     "user_tz": -480
    },
    "id": "780f2b73-07f4-491a-a9fe-86de422919c8",
    "outputId": "25fcc93a-d776-451f-9318-0f76aa330c33"
   },
   "outputs": [
    {
     "name": "stdout",
     "output_type": "stream",
     "text": [
      "(14835, 4)\n"
     ]
    },
    {
     "data": {
      "text/html": [
       "<div>\n",
       "<style scoped>\n",
       "    .dataframe tbody tr th:only-of-type {\n",
       "        vertical-align: middle;\n",
       "    }\n",
       "\n",
       "    .dataframe tbody tr th {\n",
       "        vertical-align: top;\n",
       "    }\n",
       "\n",
       "    .dataframe thead th {\n",
       "        text-align: right;\n",
       "    }\n",
       "</style>\n",
       "<table border=\"1\" class=\"dataframe\">\n",
       "  <thead>\n",
       "    <tr style=\"text-align: right;\">\n",
       "      <th></th>\n",
       "      <th>Date</th>\n",
       "      <th>Time</th>\n",
       "      <th>Latitude</th>\n",
       "      <th>Longitude</th>\n",
       "    </tr>\n",
       "  </thead>\n",
       "  <tbody>\n",
       "    <tr>\n",
       "      <th>0</th>\n",
       "      <td>2011-08-29</td>\n",
       "      <td>6:56:58 PM</td>\n",
       "      <td>42.391623</td>\n",
       "      <td>-88.089163</td>\n",
       "    </tr>\n",
       "    <tr>\n",
       "      <th>1</th>\n",
       "      <td>2011-08-29</td>\n",
       "      <td>6:57:08 PM</td>\n",
       "      <td>42.391348</td>\n",
       "      <td>-88.089163</td>\n",
       "    </tr>\n",
       "    <tr>\n",
       "      <th>2</th>\n",
       "      <td>2011-08-29</td>\n",
       "      <td>6:57:18 PM</td>\n",
       "      <td>42.391022</td>\n",
       "      <td>-88.089157</td>\n",
       "    </tr>\n",
       "    <tr>\n",
       "      <th>3</th>\n",
       "      <td>2011-08-29</td>\n",
       "      <td>6:57:28 PM</td>\n",
       "      <td>42.390637</td>\n",
       "      <td>-88.089158</td>\n",
       "    </tr>\n",
       "    <tr>\n",
       "      <th>4</th>\n",
       "      <td>2011-08-29</td>\n",
       "      <td>6:57:38 PM</td>\n",
       "      <td>42.390410</td>\n",
       "      <td>-88.088858</td>\n",
       "    </tr>\n",
       "  </tbody>\n",
       "</table>\n",
       "</div>"
      ],
      "text/plain": [
       "         Date        Time   Latitude  Longitude\n",
       "0  2011-08-29  6:56:58 PM  42.391623 -88.089163\n",
       "1  2011-08-29  6:57:08 PM  42.391348 -88.089163\n",
       "2  2011-08-29  6:57:18 PM  42.391022 -88.089157\n",
       "3  2011-08-29  6:57:28 PM  42.390637 -88.089158\n",
       "4  2011-08-29  6:57:38 PM  42.390410 -88.088858"
      ]
     },
     "execution_count": 3,
     "metadata": {},
     "output_type": "execute_result"
    }
   ],
   "source": [
    "# read in data\n",
    "spray = pd.read_csv(original_filename)\n",
    "\n",
    "# see data shape and first 5 rows\n",
    "print(spray.shape)\n",
    "spray.head()"
   ]
  },
  {
   "cell_type": "code",
   "execution_count": 4,
   "id": "acf132ae-0235-473a-bcfc-1950e06657d2",
   "metadata": {
    "id": "acf132ae-0235-473a-bcfc-1950e06657d2",
    "outputId": "4af56ab5-4a82-430a-d333-5dc13d71eedd"
   },
   "outputs": [
    {
     "name": "stdout",
     "output_type": "stream",
     "text": [
      "<class 'pandas.core.frame.DataFrame'>\n",
      "RangeIndex: 14835 entries, 0 to 14834\n",
      "Data columns (total 4 columns):\n",
      " #   Column     Non-Null Count  Dtype  \n",
      "---  ------     --------------  -----  \n",
      " 0   Date       14835 non-null  object \n",
      " 1   Time       14251 non-null  object \n",
      " 2   Latitude   14835 non-null  float64\n",
      " 3   Longitude  14835 non-null  float64\n",
      "dtypes: float64(2), object(2)\n",
      "memory usage: 463.7+ KB\n"
     ]
    }
   ],
   "source": [
    "# see data info and if there is any null values\n",
    "spray.info()"
   ]
  },
  {
   "cell_type": "markdown",
   "id": "6dddd7f8-de79-4662-aa80-0d67f6579fc1",
   "metadata": {
    "id": "6dddd7f8-de79-4662-aa80-0d67f6579fc1"
   },
   "source": [
    "Let's change the date DType for `Date` and create a new column to store the time in 24 hours format"
   ]
  },
  {
   "cell_type": "code",
   "execution_count": null,
   "id": "3a35d19c-a8ef-4e31-a398-2ceb073b6364",
   "metadata": {
    "id": "3a35d19c-a8ef-4e31-a398-2ceb073b6364"
   },
   "outputs": [],
   "source": [
    "# convert date Dtype\n",
    "spray['Date'] = pd.to_datetime(spray['Date'])\n",
    "\n",
    "# create new column to store time in 24 hour format\n",
    "spray['Time_24h'] = pd.to_datetime(spray['Time']).dt.time"
   ]
  },
  {
   "cell_type": "code",
   "execution_count": null,
   "id": "c75ee3a3-e652-4e7c-b4dd-deac65215a15",
   "metadata": {
    "id": "c75ee3a3-e652-4e7c-b4dd-deac65215a15",
    "outputId": "bec17eaf-0404-4042-f69c-79a45311c3c5"
   },
   "outputs": [
    {
     "name": "stdout",
     "output_type": "stream",
     "text": [
      "(14835, 5)\n"
     ]
    },
    {
     "data": {
      "text/html": [
       "<div>\n",
       "<style scoped>\n",
       "    .dataframe tbody tr th:only-of-type {\n",
       "        vertical-align: middle;\n",
       "    }\n",
       "\n",
       "    .dataframe tbody tr th {\n",
       "        vertical-align: top;\n",
       "    }\n",
       "\n",
       "    .dataframe thead th {\n",
       "        text-align: right;\n",
       "    }\n",
       "</style>\n",
       "<table border=\"1\" class=\"dataframe\">\n",
       "  <thead>\n",
       "    <tr style=\"text-align: right;\">\n",
       "      <th></th>\n",
       "      <th>Date</th>\n",
       "      <th>Time</th>\n",
       "      <th>Latitude</th>\n",
       "      <th>Longitude</th>\n",
       "      <th>Time_24h</th>\n",
       "    </tr>\n",
       "  </thead>\n",
       "  <tbody>\n",
       "    <tr>\n",
       "      <th>0</th>\n",
       "      <td>2011-08-29</td>\n",
       "      <td>6:56:58 PM</td>\n",
       "      <td>42.391623</td>\n",
       "      <td>-88.089163</td>\n",
       "      <td>18:56:58</td>\n",
       "    </tr>\n",
       "    <tr>\n",
       "      <th>1</th>\n",
       "      <td>2011-08-29</td>\n",
       "      <td>6:57:08 PM</td>\n",
       "      <td>42.391348</td>\n",
       "      <td>-88.089163</td>\n",
       "      <td>18:57:08</td>\n",
       "    </tr>\n",
       "    <tr>\n",
       "      <th>2</th>\n",
       "      <td>2011-08-29</td>\n",
       "      <td>6:57:18 PM</td>\n",
       "      <td>42.391022</td>\n",
       "      <td>-88.089157</td>\n",
       "      <td>18:57:18</td>\n",
       "    </tr>\n",
       "    <tr>\n",
       "      <th>3</th>\n",
       "      <td>2011-08-29</td>\n",
       "      <td>6:57:28 PM</td>\n",
       "      <td>42.390637</td>\n",
       "      <td>-88.089158</td>\n",
       "      <td>18:57:28</td>\n",
       "    </tr>\n",
       "    <tr>\n",
       "      <th>4</th>\n",
       "      <td>2011-08-29</td>\n",
       "      <td>6:57:38 PM</td>\n",
       "      <td>42.390410</td>\n",
       "      <td>-88.088858</td>\n",
       "      <td>18:57:38</td>\n",
       "    </tr>\n",
       "  </tbody>\n",
       "</table>\n",
       "</div>"
      ],
      "text/plain": [
       "        Date        Time   Latitude  Longitude  Time_24h\n",
       "0 2011-08-29  6:56:58 PM  42.391623 -88.089163  18:56:58\n",
       "1 2011-08-29  6:57:08 PM  42.391348 -88.089163  18:57:08\n",
       "2 2011-08-29  6:57:18 PM  42.391022 -88.089157  18:57:18\n",
       "3 2011-08-29  6:57:28 PM  42.390637 -88.089158  18:57:28\n",
       "4 2011-08-29  6:57:38 PM  42.390410 -88.088858  18:57:38"
      ]
     },
     "execution_count": 6,
     "metadata": {},
     "output_type": "execute_result"
    }
   ],
   "source": [
    "# see data shape and first 5 rows\n",
    "print(spray.shape)\n",
    "spray.head()"
   ]
  },
  {
   "cell_type": "code",
   "execution_count": null,
   "id": "340d797f-e9ad-497a-842c-8a20a09f6724",
   "metadata": {
    "id": "340d797f-e9ad-497a-842c-8a20a09f6724",
    "outputId": "4265bb13-cfb0-41db-84ee-237bb4698bcc"
   },
   "outputs": [
    {
     "name": "stdout",
     "output_type": "stream",
     "text": [
      "<class 'pandas.core.frame.DataFrame'>\n",
      "RangeIndex: 14835 entries, 0 to 14834\n",
      "Data columns (total 5 columns):\n",
      " #   Column     Non-Null Count  Dtype         \n",
      "---  ------     --------------  -----         \n",
      " 0   Date       14835 non-null  datetime64[ns]\n",
      " 1   Time       14251 non-null  object        \n",
      " 2   Latitude   14835 non-null  float64       \n",
      " 3   Longitude  14835 non-null  float64       \n",
      " 4   Time_24h   14251 non-null  object        \n",
      "dtypes: datetime64[ns](1), float64(2), object(2)\n",
      "memory usage: 579.6+ KB\n"
     ]
    }
   ],
   "source": [
    "# see data info\n",
    "spray.info()"
   ]
  },
  {
   "cell_type": "markdown",
   "id": "a539f7e5-248a-430d-9ab1-5629f8f0c515",
   "metadata": {
    "id": "a539f7e5-248a-430d-9ab1-5629f8f0c515"
   },
   "source": [
    "For easier manipulation, we will create 3 columns to store the day, month and year of the date. "
   ]
  },
  {
   "cell_type": "code",
   "execution_count": null,
   "id": "fd2fc67e-3ba7-4f9e-8cc1-30596ccc4abb",
   "metadata": {
    "id": "fd2fc67e-3ba7-4f9e-8cc1-30596ccc4abb"
   },
   "outputs": [],
   "source": [
    "# create 3 columns to store the day, month and year\n",
    "spray['day'] = spray['Date'].dt.day\n",
    "spray['month'] = spray['Date'].dt.month\n",
    "spray['year'] = spray['Date'].dt.year"
   ]
  },
  {
   "cell_type": "code",
   "execution_count": null,
   "id": "1f32f251-8f51-405e-951b-5c5add02b733",
   "metadata": {
    "id": "1f32f251-8f51-405e-951b-5c5add02b733",
    "outputId": "d8fed001-9a7b-4270-9769-fa8f8f7214e4"
   },
   "outputs": [
    {
     "name": "stdout",
     "output_type": "stream",
     "text": [
      "(14835, 8)\n"
     ]
    },
    {
     "data": {
      "text/html": [
       "<div>\n",
       "<style scoped>\n",
       "    .dataframe tbody tr th:only-of-type {\n",
       "        vertical-align: middle;\n",
       "    }\n",
       "\n",
       "    .dataframe tbody tr th {\n",
       "        vertical-align: top;\n",
       "    }\n",
       "\n",
       "    .dataframe thead th {\n",
       "        text-align: right;\n",
       "    }\n",
       "</style>\n",
       "<table border=\"1\" class=\"dataframe\">\n",
       "  <thead>\n",
       "    <tr style=\"text-align: right;\">\n",
       "      <th></th>\n",
       "      <th>Date</th>\n",
       "      <th>Time</th>\n",
       "      <th>Latitude</th>\n",
       "      <th>Longitude</th>\n",
       "      <th>Time_24h</th>\n",
       "      <th>day</th>\n",
       "      <th>month</th>\n",
       "      <th>year</th>\n",
       "    </tr>\n",
       "  </thead>\n",
       "  <tbody>\n",
       "    <tr>\n",
       "      <th>0</th>\n",
       "      <td>2011-08-29</td>\n",
       "      <td>6:56:58 PM</td>\n",
       "      <td>42.391623</td>\n",
       "      <td>-88.089163</td>\n",
       "      <td>18:56:58</td>\n",
       "      <td>29</td>\n",
       "      <td>8</td>\n",
       "      <td>2011</td>\n",
       "    </tr>\n",
       "    <tr>\n",
       "      <th>1</th>\n",
       "      <td>2011-08-29</td>\n",
       "      <td>6:57:08 PM</td>\n",
       "      <td>42.391348</td>\n",
       "      <td>-88.089163</td>\n",
       "      <td>18:57:08</td>\n",
       "      <td>29</td>\n",
       "      <td>8</td>\n",
       "      <td>2011</td>\n",
       "    </tr>\n",
       "    <tr>\n",
       "      <th>2</th>\n",
       "      <td>2011-08-29</td>\n",
       "      <td>6:57:18 PM</td>\n",
       "      <td>42.391022</td>\n",
       "      <td>-88.089157</td>\n",
       "      <td>18:57:18</td>\n",
       "      <td>29</td>\n",
       "      <td>8</td>\n",
       "      <td>2011</td>\n",
       "    </tr>\n",
       "    <tr>\n",
       "      <th>3</th>\n",
       "      <td>2011-08-29</td>\n",
       "      <td>6:57:28 PM</td>\n",
       "      <td>42.390637</td>\n",
       "      <td>-88.089158</td>\n",
       "      <td>18:57:28</td>\n",
       "      <td>29</td>\n",
       "      <td>8</td>\n",
       "      <td>2011</td>\n",
       "    </tr>\n",
       "    <tr>\n",
       "      <th>4</th>\n",
       "      <td>2011-08-29</td>\n",
       "      <td>6:57:38 PM</td>\n",
       "      <td>42.390410</td>\n",
       "      <td>-88.088858</td>\n",
       "      <td>18:57:38</td>\n",
       "      <td>29</td>\n",
       "      <td>8</td>\n",
       "      <td>2011</td>\n",
       "    </tr>\n",
       "  </tbody>\n",
       "</table>\n",
       "</div>"
      ],
      "text/plain": [
       "        Date        Time   Latitude  Longitude  Time_24h  day  month  year\n",
       "0 2011-08-29  6:56:58 PM  42.391623 -88.089163  18:56:58   29      8  2011\n",
       "1 2011-08-29  6:57:08 PM  42.391348 -88.089163  18:57:08   29      8  2011\n",
       "2 2011-08-29  6:57:18 PM  42.391022 -88.089157  18:57:18   29      8  2011\n",
       "3 2011-08-29  6:57:28 PM  42.390637 -88.089158  18:57:28   29      8  2011\n",
       "4 2011-08-29  6:57:38 PM  42.390410 -88.088858  18:57:38   29      8  2011"
      ]
     },
     "execution_count": 9,
     "metadata": {},
     "output_type": "execute_result"
    }
   ],
   "source": [
    "# see data shape and first 5 rows\n",
    "print(spray.shape)\n",
    "spray.head()"
   ]
  },
  {
   "cell_type": "code",
   "execution_count": null,
   "id": "901722bd-9f69-4da2-bebf-1e39f527341b",
   "metadata": {
    "id": "901722bd-9f69-4da2-bebf-1e39f527341b",
    "outputId": "cbcf738b-510c-4a78-ea98-9d22f68aebf7"
   },
   "outputs": [
    {
     "name": "stdout",
     "output_type": "stream",
     "text": [
      "<class 'pandas.core.frame.DataFrame'>\n",
      "RangeIndex: 14835 entries, 0 to 14834\n",
      "Data columns (total 8 columns):\n",
      " #   Column     Non-Null Count  Dtype         \n",
      "---  ------     --------------  -----         \n",
      " 0   Date       14835 non-null  datetime64[ns]\n",
      " 1   Time       14251 non-null  object        \n",
      " 2   Latitude   14835 non-null  float64       \n",
      " 3   Longitude  14835 non-null  float64       \n",
      " 4   Time_24h   14251 non-null  object        \n",
      " 5   day        14835 non-null  int64         \n",
      " 6   month      14835 non-null  int64         \n",
      " 7   year       14835 non-null  int64         \n",
      "dtypes: datetime64[ns](1), float64(2), int64(3), object(2)\n",
      "memory usage: 927.3+ KB\n"
     ]
    }
   ],
   "source": [
    "# see data info\n",
    "spray.info()"
   ]
  },
  {
   "cell_type": "code",
   "execution_count": null,
   "id": "c3ddbebe-85ac-4764-87f3-adada6867895",
   "metadata": {
    "id": "c3ddbebe-85ac-4764-87f3-adada6867895",
    "outputId": "7b85a726-4abf-475f-98d7-68d906195259"
   },
   "outputs": [
    {
     "name": "stdout",
     "output_type": "stream",
     "text": [
      "(14835, 8)\n"
     ]
    },
    {
     "data": {
      "text/html": [
       "<div>\n",
       "<style scoped>\n",
       "    .dataframe tbody tr th:only-of-type {\n",
       "        vertical-align: middle;\n",
       "    }\n",
       "\n",
       "    .dataframe tbody tr th {\n",
       "        vertical-align: top;\n",
       "    }\n",
       "\n",
       "    .dataframe thead th {\n",
       "        text-align: right;\n",
       "    }\n",
       "</style>\n",
       "<table border=\"1\" class=\"dataframe\">\n",
       "  <thead>\n",
       "    <tr style=\"text-align: right;\">\n",
       "      <th></th>\n",
       "      <th>date</th>\n",
       "      <th>time</th>\n",
       "      <th>latitude</th>\n",
       "      <th>longitude</th>\n",
       "      <th>time_24h</th>\n",
       "      <th>day</th>\n",
       "      <th>month</th>\n",
       "      <th>year</th>\n",
       "    </tr>\n",
       "  </thead>\n",
       "  <tbody>\n",
       "    <tr>\n",
       "      <th>0</th>\n",
       "      <td>2011-08-29</td>\n",
       "      <td>6:56:58 PM</td>\n",
       "      <td>42.391623</td>\n",
       "      <td>-88.089163</td>\n",
       "      <td>18:56:58</td>\n",
       "      <td>29</td>\n",
       "      <td>8</td>\n",
       "      <td>2011</td>\n",
       "    </tr>\n",
       "    <tr>\n",
       "      <th>1</th>\n",
       "      <td>2011-08-29</td>\n",
       "      <td>6:57:08 PM</td>\n",
       "      <td>42.391348</td>\n",
       "      <td>-88.089163</td>\n",
       "      <td>18:57:08</td>\n",
       "      <td>29</td>\n",
       "      <td>8</td>\n",
       "      <td>2011</td>\n",
       "    </tr>\n",
       "    <tr>\n",
       "      <th>2</th>\n",
       "      <td>2011-08-29</td>\n",
       "      <td>6:57:18 PM</td>\n",
       "      <td>42.391022</td>\n",
       "      <td>-88.089157</td>\n",
       "      <td>18:57:18</td>\n",
       "      <td>29</td>\n",
       "      <td>8</td>\n",
       "      <td>2011</td>\n",
       "    </tr>\n",
       "    <tr>\n",
       "      <th>3</th>\n",
       "      <td>2011-08-29</td>\n",
       "      <td>6:57:28 PM</td>\n",
       "      <td>42.390637</td>\n",
       "      <td>-88.089158</td>\n",
       "      <td>18:57:28</td>\n",
       "      <td>29</td>\n",
       "      <td>8</td>\n",
       "      <td>2011</td>\n",
       "    </tr>\n",
       "    <tr>\n",
       "      <th>4</th>\n",
       "      <td>2011-08-29</td>\n",
       "      <td>6:57:38 PM</td>\n",
       "      <td>42.390410</td>\n",
       "      <td>-88.088858</td>\n",
       "      <td>18:57:38</td>\n",
       "      <td>29</td>\n",
       "      <td>8</td>\n",
       "      <td>2011</td>\n",
       "    </tr>\n",
       "  </tbody>\n",
       "</table>\n",
       "</div>"
      ],
      "text/plain": [
       "        date        time   latitude  longitude  time_24h  day  month  year\n",
       "0 2011-08-29  6:56:58 PM  42.391623 -88.089163  18:56:58   29      8  2011\n",
       "1 2011-08-29  6:57:08 PM  42.391348 -88.089163  18:57:08   29      8  2011\n",
       "2 2011-08-29  6:57:18 PM  42.391022 -88.089157  18:57:18   29      8  2011\n",
       "3 2011-08-29  6:57:28 PM  42.390637 -88.089158  18:57:28   29      8  2011\n",
       "4 2011-08-29  6:57:38 PM  42.390410 -88.088858  18:57:38   29      8  2011"
      ]
     },
     "execution_count": 11,
     "metadata": {},
     "output_type": "execute_result"
    }
   ],
   "source": [
    "# rename the columns to just lower case\n",
    "spray.rename(columns={column: column.lower() for column in spray.columns}, inplace=True)\n",
    "\n",
    "# see data shape and first 5 rows\n",
    "print(spray.shape)\n",
    "spray.head()"
   ]
  },
  {
   "cell_type": "code",
   "execution_count": null,
   "id": "7b6fdc01-4b46-45f7-bc27-1eea75f44bef",
   "metadata": {
    "id": "7b6fdc01-4b46-45f7-bc27-1eea75f44bef",
    "outputId": "b1b95dc6-655b-4b78-c1e8-9c79b7c09649"
   },
   "outputs": [
    {
     "name": "stdout",
     "output_type": "stream",
     "text": [
      "<class 'pandas.core.frame.DataFrame'>\n",
      "RangeIndex: 14835 entries, 0 to 14834\n",
      "Data columns (total 8 columns):\n",
      " #   Column     Non-Null Count  Dtype         \n",
      "---  ------     --------------  -----         \n",
      " 0   date       14835 non-null  datetime64[ns]\n",
      " 1   time       14251 non-null  object        \n",
      " 2   latitude   14835 non-null  float64       \n",
      " 3   longitude  14835 non-null  float64       \n",
      " 4   time_24h   14251 non-null  object        \n",
      " 5   day        14835 non-null  int64         \n",
      " 6   month      14835 non-null  int64         \n",
      " 7   year       14835 non-null  int64         \n",
      "dtypes: datetime64[ns](1), float64(2), int64(3), object(2)\n",
      "memory usage: 927.3+ KB\n"
     ]
    }
   ],
   "source": [
    "# see data info\n",
    "spray.info()"
   ]
  },
  {
   "cell_type": "markdown",
   "id": "c817810e-aeed-4894-a14e-00484abe46ff",
   "metadata": {
    "id": "c817810e-aeed-4894-a14e-00484abe46ff"
   },
   "source": [
    "We will **not be removing the null data** from the data as we are not clear if time will be utilised in the analysis. As any point in time, we can remove these data by dropping the null data or dropping the column. \n",
    "\n",
    "```python\n",
    "# to run the below code to drop null data\n",
    "spray.dropna(inplace=True)\n",
    "\n",
    "# to run below code to drop column\n",
    "df.drop(['time', 'time_24h'], axis = 1, inplace = True)\n",
    "\n",
    "```"
   ]
  },
  {
   "cell_type": "code",
   "execution_count": null,
   "id": "f34714ef-d72c-4fab-bb29-f0187af5e877",
   "metadata": {
    "id": "f34714ef-d72c-4fab-bb29-f0187af5e877"
   },
   "outputs": [],
   "source": [
    "# export cleaned data file\n",
    "spray.to_csv(clean_filename, index=False)"
   ]
  }
 ],
 "metadata": {
  "colab": {
   "name": "clean_spray.ipynb",
   "provenance": []
  },
  "kernelspec": {
   "display_name": "Python 3",
   "language": "python",
   "name": "python3"
  },
  "language_info": {
   "codemirror_mode": {
    "name": "ipython",
    "version": 3
   },
   "file_extension": ".py",
   "mimetype": "text/x-python",
   "name": "python",
   "nbconvert_exporter": "python",
   "pygments_lexer": "ipython3",
   "version": "3.8.8"
  }
 },
 "nbformat": 4,
 "nbformat_minor": 5
}
