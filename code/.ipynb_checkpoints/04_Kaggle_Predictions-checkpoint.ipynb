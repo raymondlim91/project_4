{
 "cells": [
  {
   "cell_type": "markdown",
   "metadata": {
    "cell_id": "00000-c6fd688d-f049-4ecc-a803-feaf3301ec97",
    "deepnote_cell_type": "markdown"
   },
   "source": [
    "# Project 4: West Nile Virus Prediction\n",
    "____________\n",
    "\n",
    "#  Kaggle Predictions\n",
    "\n",
    "To predicting the Wnv presence on the Kaggle dataset."
   ]
  },
  {
   "cell_type": "code",
   "execution_count": 1,
   "metadata": {
    "ExecuteTime": {
     "end_time": "2021-01-09T05:09:44.933375Z",
     "start_time": "2021-01-09T05:09:43.118043Z"
    },
    "cell_id": "00002-6f0810ab-92c2-4d39-a51f-6c5d786878b6",
    "deepnote_cell_type": "code"
   },
   "outputs": [],
   "source": [
    "# Import libraries\n",
    "import pandas as pd\n",
    "import numpy as np\n",
    "import matplotlib.pyplot as plt\n",
    "import seaborn as sns\n",
    "import pickle\n",
    "\n",
    "from sklearn.preprocessing import StandardScaler,  PolynomialFeatures\n",
    "from sklearn.ensemble import GradientBoostingClassifier, ExtraTreesClassifier, AdaBoostClassifier"
   ]
  },
  {
   "cell_type": "markdown",
   "metadata": {
    "cell_id": "00003-cc407474-49ce-459a-b607-79ddf8aab346",
    "deepnote_cell_type": "markdown"
   },
   "source": [
    "### Import data"
   ]
  },
  {
   "cell_type": "code",
   "execution_count": 2,
   "metadata": {
    "ExecuteTime": {
     "end_time": "2021-01-09T05:09:44.952361Z",
     "start_time": "2021-01-09T05:09:44.937247Z"
    },
    "cell_id": "00004-650bf62a-127e-48cf-8a9b-d12af161499d",
    "deepnote_cell_type": "code"
   },
   "outputs": [],
   "source": [
    "# Import weather data to merge with test data\n",
    "weather = pd.read_csv('../assets/cleaned_weather.csv')\n",
    "\n",
    "# Import train data to compare the features needed\n",
    "X_train = pd.read_csv('../assets/X_train.csv')\n",
    "\n",
    "# Import train dataset\n",
    "test = pd.read_csv('../assets/cleaned_test.csv')"
   ]
  },
  {
   "cell_type": "code",
   "execution_count": 3,
   "metadata": {
    "ExecuteTime": {
     "end_time": "2021-01-09T05:09:45.555160Z",
     "start_time": "2021-01-09T05:09:45.525850Z"
    },
    "cell_id": "00005-534c9f7c-5345-4617-bd62-bc5a324c0a6d",
    "deepnote_cell_type": "code"
   },
   "outputs": [
    {
     "data": {
      "text/html": [
       "<div>\n",
       "<style scoped>\n",
       "    .dataframe tbody tr th:only-of-type {\n",
       "        vertical-align: middle;\n",
       "    }\n",
       "\n",
       "    .dataframe tbody tr th {\n",
       "        vertical-align: top;\n",
       "    }\n",
       "\n",
       "    .dataframe thead th {\n",
       "        text-align: right;\n",
       "    }\n",
       "</style>\n",
       "<table border=\"1\" class=\"dataframe\">\n",
       "  <thead>\n",
       "    <tr style=\"text-align: right;\">\n",
       "      <th></th>\n",
       "      <th>Unnamed: 0</th>\n",
       "      <th>Station</th>\n",
       "      <th>Date</th>\n",
       "      <th>Tmax</th>\n",
       "      <th>Tmin</th>\n",
       "      <th>Tavg</th>\n",
       "      <th>Depart</th>\n",
       "      <th>DewPoint</th>\n",
       "      <th>WetBulb</th>\n",
       "      <th>Heat</th>\n",
       "      <th>...</th>\n",
       "      <th>Sunset</th>\n",
       "      <th>PrecipTotal</th>\n",
       "      <th>StnPressure</th>\n",
       "      <th>SeaLevel</th>\n",
       "      <th>ResultSpeed</th>\n",
       "      <th>ResultDir</th>\n",
       "      <th>AvgSpeed</th>\n",
       "      <th>day</th>\n",
       "      <th>month</th>\n",
       "      <th>year</th>\n",
       "    </tr>\n",
       "  </thead>\n",
       "  <tbody>\n",
       "    <tr>\n",
       "      <th>0</th>\n",
       "      <td>0</td>\n",
       "      <td>1</td>\n",
       "      <td>2007-05-01</td>\n",
       "      <td>83</td>\n",
       "      <td>50</td>\n",
       "      <td>67</td>\n",
       "      <td>14</td>\n",
       "      <td>51</td>\n",
       "      <td>56.0</td>\n",
       "      <td>0</td>\n",
       "      <td>...</td>\n",
       "      <td>1849</td>\n",
       "      <td>0.0</td>\n",
       "      <td>29.10</td>\n",
       "      <td>29.82</td>\n",
       "      <td>1.7</td>\n",
       "      <td>27</td>\n",
       "      <td>9.2</td>\n",
       "      <td>1</td>\n",
       "      <td>5</td>\n",
       "      <td>2007</td>\n",
       "    </tr>\n",
       "    <tr>\n",
       "      <th>1</th>\n",
       "      <td>1</td>\n",
       "      <td>2</td>\n",
       "      <td>2007-05-01</td>\n",
       "      <td>84</td>\n",
       "      <td>52</td>\n",
       "      <td>68</td>\n",
       "      <td>14</td>\n",
       "      <td>51</td>\n",
       "      <td>57.0</td>\n",
       "      <td>0</td>\n",
       "      <td>...</td>\n",
       "      <td>1849</td>\n",
       "      <td>0.0</td>\n",
       "      <td>29.18</td>\n",
       "      <td>29.82</td>\n",
       "      <td>2.7</td>\n",
       "      <td>25</td>\n",
       "      <td>9.6</td>\n",
       "      <td>1</td>\n",
       "      <td>5</td>\n",
       "      <td>2007</td>\n",
       "    </tr>\n",
       "    <tr>\n",
       "      <th>2</th>\n",
       "      <td>2</td>\n",
       "      <td>1</td>\n",
       "      <td>2007-05-02</td>\n",
       "      <td>59</td>\n",
       "      <td>42</td>\n",
       "      <td>51</td>\n",
       "      <td>-3</td>\n",
       "      <td>42</td>\n",
       "      <td>47.0</td>\n",
       "      <td>14</td>\n",
       "      <td>...</td>\n",
       "      <td>1850</td>\n",
       "      <td>0.0</td>\n",
       "      <td>29.38</td>\n",
       "      <td>30.09</td>\n",
       "      <td>13.0</td>\n",
       "      <td>4</td>\n",
       "      <td>13.4</td>\n",
       "      <td>2</td>\n",
       "      <td>5</td>\n",
       "      <td>2007</td>\n",
       "    </tr>\n",
       "    <tr>\n",
       "      <th>3</th>\n",
       "      <td>3</td>\n",
       "      <td>2</td>\n",
       "      <td>2007-05-02</td>\n",
       "      <td>60</td>\n",
       "      <td>43</td>\n",
       "      <td>52</td>\n",
       "      <td>-3</td>\n",
       "      <td>42</td>\n",
       "      <td>47.0</td>\n",
       "      <td>13</td>\n",
       "      <td>...</td>\n",
       "      <td>1850</td>\n",
       "      <td>0.0</td>\n",
       "      <td>29.44</td>\n",
       "      <td>30.08</td>\n",
       "      <td>13.3</td>\n",
       "      <td>2</td>\n",
       "      <td>13.4</td>\n",
       "      <td>2</td>\n",
       "      <td>5</td>\n",
       "      <td>2007</td>\n",
       "    </tr>\n",
       "    <tr>\n",
       "      <th>4</th>\n",
       "      <td>4</td>\n",
       "      <td>1</td>\n",
       "      <td>2007-05-03</td>\n",
       "      <td>66</td>\n",
       "      <td>46</td>\n",
       "      <td>56</td>\n",
       "      <td>2</td>\n",
       "      <td>40</td>\n",
       "      <td>48.0</td>\n",
       "      <td>9</td>\n",
       "      <td>...</td>\n",
       "      <td>1851</td>\n",
       "      <td>0.0</td>\n",
       "      <td>29.39</td>\n",
       "      <td>30.12</td>\n",
       "      <td>11.7</td>\n",
       "      <td>7</td>\n",
       "      <td>11.9</td>\n",
       "      <td>3</td>\n",
       "      <td>5</td>\n",
       "      <td>2007</td>\n",
       "    </tr>\n",
       "  </tbody>\n",
       "</table>\n",
       "<p>5 rows × 22 columns</p>\n",
       "</div>"
      ],
      "text/plain": [
       "   Unnamed: 0  Station        Date  Tmax  Tmin  Tavg  Depart  DewPoint  \\\n",
       "0           0        1  2007-05-01    83    50    67      14        51   \n",
       "1           1        2  2007-05-01    84    52    68      14        51   \n",
       "2           2        1  2007-05-02    59    42    51      -3        42   \n",
       "3           3        2  2007-05-02    60    43    52      -3        42   \n",
       "4           4        1  2007-05-03    66    46    56       2        40   \n",
       "\n",
       "   WetBulb  Heat  ...  Sunset  PrecipTotal  StnPressure  SeaLevel  \\\n",
       "0     56.0     0  ...    1849          0.0        29.10     29.82   \n",
       "1     57.0     0  ...    1849          0.0        29.18     29.82   \n",
       "2     47.0    14  ...    1850          0.0        29.38     30.09   \n",
       "3     47.0    13  ...    1850          0.0        29.44     30.08   \n",
       "4     48.0     9  ...    1851          0.0        29.39     30.12   \n",
       "\n",
       "   ResultSpeed  ResultDir  AvgSpeed  day  month  year  \n",
       "0          1.7         27       9.2    1      5  2007  \n",
       "1          2.7         25       9.6    1      5  2007  \n",
       "2         13.0          4      13.4    2      5  2007  \n",
       "3         13.3          2      13.4    2      5  2007  \n",
       "4         11.7          7      11.9    3      5  2007  \n",
       "\n",
       "[5 rows x 22 columns]"
      ]
     },
     "execution_count": 3,
     "metadata": {},
     "output_type": "execute_result"
    }
   ],
   "source": [
    "weather.head()"
   ]
  },
  {
   "cell_type": "code",
   "execution_count": 4,
   "metadata": {
    "ExecuteTime": {
     "end_time": "2021-01-09T05:10:18.115920Z",
     "start_time": "2021-01-09T05:10:17.896568Z"
    },
    "cell_id": "00006-4ce1e07d-86be-4dcd-aa57-a90d2b58ca40",
    "deepnote_cell_type": "code"
   },
   "outputs": [],
   "source": [
    "# Import Kaggle Test data\n",
    "test = pd.read_csv('../assets/cleaned_test.csv')"
   ]
  },
  {
   "cell_type": "code",
   "execution_count": 5,
   "metadata": {
    "ExecuteTime": {
     "end_time": "2021-01-09T05:10:20.816209Z",
     "start_time": "2021-01-09T05:10:20.795065Z"
    },
    "cell_id": "00007-ffce8267-9c13-44aa-81cd-360c25f8897a",
    "deepnote_cell_type": "code"
   },
   "outputs": [
    {
     "data": {
      "text/html": [
       "<div>\n",
       "<style scoped>\n",
       "    .dataframe tbody tr th:only-of-type {\n",
       "        vertical-align: middle;\n",
       "    }\n",
       "\n",
       "    .dataframe tbody tr th {\n",
       "        vertical-align: top;\n",
       "    }\n",
       "\n",
       "    .dataframe thead th {\n",
       "        text-align: right;\n",
       "    }\n",
       "</style>\n",
       "<table border=\"1\" class=\"dataframe\">\n",
       "  <thead>\n",
       "    <tr style=\"text-align: right;\">\n",
       "      <th></th>\n",
       "      <th>Id</th>\n",
       "      <th>Date</th>\n",
       "      <th>Address</th>\n",
       "      <th>Species</th>\n",
       "      <th>Block</th>\n",
       "      <th>Street</th>\n",
       "      <th>Trap</th>\n",
       "      <th>AddressNumberAndStreet</th>\n",
       "      <th>Latitude</th>\n",
       "      <th>Longitude</th>\n",
       "      <th>AddressAccuracy</th>\n",
       "      <th>day</th>\n",
       "      <th>month</th>\n",
       "      <th>year</th>\n",
       "    </tr>\n",
       "  </thead>\n",
       "  <tbody>\n",
       "    <tr>\n",
       "      <th>0</th>\n",
       "      <td>1</td>\n",
       "      <td>2008-06-11</td>\n",
       "      <td>4100 North Oak Park Avenue, Chicago, IL 60634,...</td>\n",
       "      <td>CULEX PIPIENS/RESTUANS</td>\n",
       "      <td>41</td>\n",
       "      <td>N OAK PARK AVE</td>\n",
       "      <td>T002</td>\n",
       "      <td>4100  N OAK PARK AVE, Chicago, IL</td>\n",
       "      <td>41.95469</td>\n",
       "      <td>-87.800991</td>\n",
       "      <td>9</td>\n",
       "      <td>11</td>\n",
       "      <td>6</td>\n",
       "      <td>2008</td>\n",
       "    </tr>\n",
       "    <tr>\n",
       "      <th>1</th>\n",
       "      <td>2</td>\n",
       "      <td>2008-06-11</td>\n",
       "      <td>4100 North Oak Park Avenue, Chicago, IL 60634,...</td>\n",
       "      <td>CULEX RESTUANS</td>\n",
       "      <td>41</td>\n",
       "      <td>N OAK PARK AVE</td>\n",
       "      <td>T002</td>\n",
       "      <td>4100  N OAK PARK AVE, Chicago, IL</td>\n",
       "      <td>41.95469</td>\n",
       "      <td>-87.800991</td>\n",
       "      <td>9</td>\n",
       "      <td>11</td>\n",
       "      <td>6</td>\n",
       "      <td>2008</td>\n",
       "    </tr>\n",
       "    <tr>\n",
       "      <th>2</th>\n",
       "      <td>3</td>\n",
       "      <td>2008-06-11</td>\n",
       "      <td>4100 North Oak Park Avenue, Chicago, IL 60634,...</td>\n",
       "      <td>CULEX PIPIENS</td>\n",
       "      <td>41</td>\n",
       "      <td>N OAK PARK AVE</td>\n",
       "      <td>T002</td>\n",
       "      <td>4100  N OAK PARK AVE, Chicago, IL</td>\n",
       "      <td>41.95469</td>\n",
       "      <td>-87.800991</td>\n",
       "      <td>9</td>\n",
       "      <td>11</td>\n",
       "      <td>6</td>\n",
       "      <td>2008</td>\n",
       "    </tr>\n",
       "    <tr>\n",
       "      <th>3</th>\n",
       "      <td>4</td>\n",
       "      <td>2008-06-11</td>\n",
       "      <td>4100 North Oak Park Avenue, Chicago, IL 60634,...</td>\n",
       "      <td>CULEX SALINARIUS</td>\n",
       "      <td>41</td>\n",
       "      <td>N OAK PARK AVE</td>\n",
       "      <td>T002</td>\n",
       "      <td>4100  N OAK PARK AVE, Chicago, IL</td>\n",
       "      <td>41.95469</td>\n",
       "      <td>-87.800991</td>\n",
       "      <td>9</td>\n",
       "      <td>11</td>\n",
       "      <td>6</td>\n",
       "      <td>2008</td>\n",
       "    </tr>\n",
       "    <tr>\n",
       "      <th>4</th>\n",
       "      <td>5</td>\n",
       "      <td>2008-06-11</td>\n",
       "      <td>4100 North Oak Park Avenue, Chicago, IL 60634,...</td>\n",
       "      <td>CULEX TERRITANS</td>\n",
       "      <td>41</td>\n",
       "      <td>N OAK PARK AVE</td>\n",
       "      <td>T002</td>\n",
       "      <td>4100  N OAK PARK AVE, Chicago, IL</td>\n",
       "      <td>41.95469</td>\n",
       "      <td>-87.800991</td>\n",
       "      <td>9</td>\n",
       "      <td>11</td>\n",
       "      <td>6</td>\n",
       "      <td>2008</td>\n",
       "    </tr>\n",
       "  </tbody>\n",
       "</table>\n",
       "</div>"
      ],
      "text/plain": [
       "   Id        Date                                            Address  \\\n",
       "0   1  2008-06-11  4100 North Oak Park Avenue, Chicago, IL 60634,...   \n",
       "1   2  2008-06-11  4100 North Oak Park Avenue, Chicago, IL 60634,...   \n",
       "2   3  2008-06-11  4100 North Oak Park Avenue, Chicago, IL 60634,...   \n",
       "3   4  2008-06-11  4100 North Oak Park Avenue, Chicago, IL 60634,...   \n",
       "4   5  2008-06-11  4100 North Oak Park Avenue, Chicago, IL 60634,...   \n",
       "\n",
       "                  Species  Block           Street  Trap  \\\n",
       "0  CULEX PIPIENS/RESTUANS     41   N OAK PARK AVE  T002   \n",
       "1          CULEX RESTUANS     41   N OAK PARK AVE  T002   \n",
       "2           CULEX PIPIENS     41   N OAK PARK AVE  T002   \n",
       "3        CULEX SALINARIUS     41   N OAK PARK AVE  T002   \n",
       "4         CULEX TERRITANS     41   N OAK PARK AVE  T002   \n",
       "\n",
       "              AddressNumberAndStreet  Latitude  Longitude  AddressAccuracy  \\\n",
       "0  4100  N OAK PARK AVE, Chicago, IL  41.95469 -87.800991                9   \n",
       "1  4100  N OAK PARK AVE, Chicago, IL  41.95469 -87.800991                9   \n",
       "2  4100  N OAK PARK AVE, Chicago, IL  41.95469 -87.800991                9   \n",
       "3  4100  N OAK PARK AVE, Chicago, IL  41.95469 -87.800991                9   \n",
       "4  4100  N OAK PARK AVE, Chicago, IL  41.95469 -87.800991                9   \n",
       "\n",
       "   day  month  year  \n",
       "0   11      6  2008  \n",
       "1   11      6  2008  \n",
       "2   11      6  2008  \n",
       "3   11      6  2008  \n",
       "4   11      6  2008  "
      ]
     },
     "execution_count": 5,
     "metadata": {},
     "output_type": "execute_result"
    }
   ],
   "source": [
    "test.head()"
   ]
  },
  {
   "cell_type": "code",
   "execution_count": 6,
   "metadata": {
    "ExecuteTime": {
     "end_time": "2021-01-09T05:10:21.335805Z",
     "start_time": "2021-01-09T05:10:21.331279Z"
    },
    "cell_id": "00008-c71c3e13-91ed-4bb6-a65a-49425e2271d7",
    "deepnote_cell_type": "code"
   },
   "outputs": [
    {
     "data": {
      "text/plain": [
       "(116293, 14)"
      ]
     },
     "execution_count": 6,
     "metadata": {},
     "output_type": "execute_result"
    }
   ],
   "source": [
    "test.shape"
   ]
  },
  {
   "cell_type": "code",
   "execution_count": 7,
   "metadata": {
    "ExecuteTime": {
     "end_time": "2021-01-09T05:10:21.700398Z",
     "start_time": "2021-01-09T05:10:21.676074Z"
    },
    "cell_id": "00009-0c5f743f-3085-4afc-8537-1b19dd1f8550",
    "deepnote_cell_type": "code"
   },
   "outputs": [],
   "source": [
    "# Convert date to datetime format\n",
    "test['Date'] = pd.to_datetime(test['Date'])\n",
    "weather['Date'] = pd.to_datetime(weather['Date'])"
   ]
  },
  {
   "cell_type": "code",
   "execution_count": 8,
   "metadata": {
    "ExecuteTime": {
     "end_time": "2021-01-09T05:10:22.160797Z",
     "start_time": "2021-01-09T05:10:22.124601Z"
    },
    "cell_id": "00010-22249157-b241-43fe-9e64-3f0bdd135cfe",
    "deepnote_cell_type": "code"
   },
   "outputs": [
    {
     "name": "stdout",
     "output_type": "stream",
     "text": [
      "<class 'pandas.core.frame.DataFrame'>\n",
      "RangeIndex: 116293 entries, 0 to 116292\n",
      "Data columns (total 14 columns):\n",
      " #   Column                  Non-Null Count   Dtype         \n",
      "---  ------                  --------------   -----         \n",
      " 0   Id                      116293 non-null  int64         \n",
      " 1   Date                    116293 non-null  datetime64[ns]\n",
      " 2   Address                 116293 non-null  object        \n",
      " 3   Species                 116293 non-null  object        \n",
      " 4   Block                   116293 non-null  int64         \n",
      " 5   Street                  116293 non-null  object        \n",
      " 6   Trap                    116293 non-null  object        \n",
      " 7   AddressNumberAndStreet  116293 non-null  object        \n",
      " 8   Latitude                116293 non-null  float64       \n",
      " 9   Longitude               116293 non-null  float64       \n",
      " 10  AddressAccuracy         116293 non-null  int64         \n",
      " 11  day                     116293 non-null  int64         \n",
      " 12  month                   116293 non-null  int64         \n",
      " 13  year                    116293 non-null  int64         \n",
      "dtypes: datetime64[ns](1), float64(2), int64(6), object(5)\n",
      "memory usage: 12.4+ MB\n"
     ]
    }
   ],
   "source": [
    "test.info()"
   ]
  },
  {
   "cell_type": "markdown",
   "metadata": {
    "cell_id": "00011-8ed37cec-a20d-40f2-aff8-9afa59b8dd0d",
    "deepnote_cell_type": "markdown"
   },
   "source": [
    "We see that the test data is complete with no missing/null values. The data types are also correct."
   ]
  },
  {
   "cell_type": "markdown",
   "metadata": {
    "cell_id": "00014-e6cbf9eb-5fd1-4d41-82c0-bbf368467daa",
    "deepnote_cell_type": "markdown"
   },
   "source": [
    "### Check for duplicates"
   ]
  },
  {
   "cell_type": "code",
   "execution_count": 9,
   "metadata": {
    "ExecuteTime": {
     "end_time": "2021-01-09T05:10:24.235807Z",
     "start_time": "2021-01-09T05:10:24.157861Z"
    },
    "cell_id": "00015-8e174b4b-e080-45c8-adc6-8764fc9c51a9",
    "deepnote_cell_type": "code"
   },
   "outputs": [
    {
     "data": {
      "text/html": [
       "<div>\n",
       "<style scoped>\n",
       "    .dataframe tbody tr th:only-of-type {\n",
       "        vertical-align: middle;\n",
       "    }\n",
       "\n",
       "    .dataframe tbody tr th {\n",
       "        vertical-align: top;\n",
       "    }\n",
       "\n",
       "    .dataframe thead th {\n",
       "        text-align: right;\n",
       "    }\n",
       "</style>\n",
       "<table border=\"1\" class=\"dataframe\">\n",
       "  <thead>\n",
       "    <tr style=\"text-align: right;\">\n",
       "      <th></th>\n",
       "      <th>Id</th>\n",
       "      <th>Date</th>\n",
       "      <th>Address</th>\n",
       "      <th>Species</th>\n",
       "      <th>Block</th>\n",
       "      <th>Street</th>\n",
       "      <th>Trap</th>\n",
       "      <th>AddressNumberAndStreet</th>\n",
       "      <th>Latitude</th>\n",
       "      <th>Longitude</th>\n",
       "      <th>AddressAccuracy</th>\n",
       "      <th>day</th>\n",
       "      <th>month</th>\n",
       "      <th>year</th>\n",
       "    </tr>\n",
       "  </thead>\n",
       "  <tbody>\n",
       "  </tbody>\n",
       "</table>\n",
       "</div>"
      ],
      "text/plain": [
       "Empty DataFrame\n",
       "Columns: [Id, Date, Address, Species, Block, Street, Trap, AddressNumberAndStreet, Latitude, Longitude, AddressAccuracy, day, month, year]\n",
       "Index: []"
      ]
     },
     "execution_count": 9,
     "metadata": {},
     "output_type": "execute_result"
    }
   ],
   "source": [
    "test[test.duplicated()]"
   ]
  },
  {
   "cell_type": "markdown",
   "metadata": {
    "cell_id": "00016-a3055488-3595-4291-85be-43fa8bbecfa3",
    "deepnote_cell_type": "markdown"
   },
   "source": [
    "Test data is clean with no duplicates."
   ]
  },
  {
   "cell_type": "markdown",
   "metadata": {
    "cell_id": "00017-6e6547ea-5dea-47ea-8960-48cb31eeea0e",
    "deepnote_cell_type": "markdown"
   },
   "source": [
    "## Transformation of Test data\n",
    "\n",
    "The test data which we have only contain the mosquito trap information, we want to add in the weather data and also transform the features to match that of the train data so that we can send it into our production model for predictions."
   ]
  },
  {
   "cell_type": "code",
   "execution_count": 10,
   "metadata": {
    "ExecuteTime": {
     "end_time": "2021-01-09T05:10:25.350581Z",
     "start_time": "2021-01-09T05:10:25.340139Z"
    },
    "cell_id": "00018-c3203f1c-68e3-4bde-8546-0135591b2121",
    "deepnote_cell_type": "code"
   },
   "outputs": [],
   "source": [
    "# As we will be using lat and long for location, remove other location variables\n",
    "test.drop(columns=['Address','AddressNumberAndStreet','AddressAccuracy'], inplace=True)"
   ]
  },
  {
   "cell_type": "code",
   "execution_count": 11,
   "metadata": {
    "ExecuteTime": {
     "end_time": "2021-01-09T05:10:25.735152Z",
     "start_time": "2021-01-09T05:10:25.710832Z"
    },
    "cell_id": "00019-1a9a976a-7205-44d4-b902-5c8b3ea38484",
    "deepnote_cell_type": "code"
   },
   "outputs": [],
   "source": [
    "# Map the species\n",
    "test['species_no'] = test['Species'].map({'CULEX PIPIENS/RESTUANS': 2,'CULEX PIPIENS': 2,'CULEX RESTUANS': 1})\n",
    "test['species_no'].fillna(value=0,inplace=True)\n",
    "\n",
    "# Drop the Species\n",
    "#test.drop(columns=['Species'], inplace=True)"
   ]
  },
  {
   "cell_type": "code",
   "execution_count": 12,
   "metadata": {
    "ExecuteTime": {
     "end_time": "2021-01-09T05:10:26.157690Z",
     "start_time": "2021-01-09T05:10:26.146528Z"
    },
    "cell_id": "00020-ea134db6-b5e8-4361-8fe7-96fa74ba9783",
    "deepnote_cell_type": "code"
   },
   "outputs": [
    {
     "data": {
      "text/html": [
       "<div>\n",
       "<style scoped>\n",
       "    .dataframe tbody tr th:only-of-type {\n",
       "        vertical-align: middle;\n",
       "    }\n",
       "\n",
       "    .dataframe tbody tr th {\n",
       "        vertical-align: top;\n",
       "    }\n",
       "\n",
       "    .dataframe thead th {\n",
       "        text-align: right;\n",
       "    }\n",
       "</style>\n",
       "<table border=\"1\" class=\"dataframe\">\n",
       "  <thead>\n",
       "    <tr style=\"text-align: right;\">\n",
       "      <th></th>\n",
       "      <th>Id</th>\n",
       "      <th>Date</th>\n",
       "      <th>Species</th>\n",
       "      <th>Block</th>\n",
       "      <th>Street</th>\n",
       "      <th>Trap</th>\n",
       "      <th>Latitude</th>\n",
       "      <th>Longitude</th>\n",
       "      <th>day</th>\n",
       "      <th>month</th>\n",
       "      <th>year</th>\n",
       "      <th>species_no</th>\n",
       "    </tr>\n",
       "  </thead>\n",
       "  <tbody>\n",
       "    <tr>\n",
       "      <th>0</th>\n",
       "      <td>1</td>\n",
       "      <td>2008-06-11</td>\n",
       "      <td>CULEX PIPIENS/RESTUANS</td>\n",
       "      <td>41</td>\n",
       "      <td>N OAK PARK AVE</td>\n",
       "      <td>T002</td>\n",
       "      <td>41.95469</td>\n",
       "      <td>-87.800991</td>\n",
       "      <td>11</td>\n",
       "      <td>6</td>\n",
       "      <td>2008</td>\n",
       "      <td>2.0</td>\n",
       "    </tr>\n",
       "    <tr>\n",
       "      <th>1</th>\n",
       "      <td>2</td>\n",
       "      <td>2008-06-11</td>\n",
       "      <td>CULEX RESTUANS</td>\n",
       "      <td>41</td>\n",
       "      <td>N OAK PARK AVE</td>\n",
       "      <td>T002</td>\n",
       "      <td>41.95469</td>\n",
       "      <td>-87.800991</td>\n",
       "      <td>11</td>\n",
       "      <td>6</td>\n",
       "      <td>2008</td>\n",
       "      <td>1.0</td>\n",
       "    </tr>\n",
       "    <tr>\n",
       "      <th>2</th>\n",
       "      <td>3</td>\n",
       "      <td>2008-06-11</td>\n",
       "      <td>CULEX PIPIENS</td>\n",
       "      <td>41</td>\n",
       "      <td>N OAK PARK AVE</td>\n",
       "      <td>T002</td>\n",
       "      <td>41.95469</td>\n",
       "      <td>-87.800991</td>\n",
       "      <td>11</td>\n",
       "      <td>6</td>\n",
       "      <td>2008</td>\n",
       "      <td>2.0</td>\n",
       "    </tr>\n",
       "    <tr>\n",
       "      <th>3</th>\n",
       "      <td>4</td>\n",
       "      <td>2008-06-11</td>\n",
       "      <td>CULEX SALINARIUS</td>\n",
       "      <td>41</td>\n",
       "      <td>N OAK PARK AVE</td>\n",
       "      <td>T002</td>\n",
       "      <td>41.95469</td>\n",
       "      <td>-87.800991</td>\n",
       "      <td>11</td>\n",
       "      <td>6</td>\n",
       "      <td>2008</td>\n",
       "      <td>0.0</td>\n",
       "    </tr>\n",
       "    <tr>\n",
       "      <th>4</th>\n",
       "      <td>5</td>\n",
       "      <td>2008-06-11</td>\n",
       "      <td>CULEX TERRITANS</td>\n",
       "      <td>41</td>\n",
       "      <td>N OAK PARK AVE</td>\n",
       "      <td>T002</td>\n",
       "      <td>41.95469</td>\n",
       "      <td>-87.800991</td>\n",
       "      <td>11</td>\n",
       "      <td>6</td>\n",
       "      <td>2008</td>\n",
       "      <td>0.0</td>\n",
       "    </tr>\n",
       "  </tbody>\n",
       "</table>\n",
       "</div>"
      ],
      "text/plain": [
       "   Id       Date                 Species  Block           Street  Trap  \\\n",
       "0   1 2008-06-11  CULEX PIPIENS/RESTUANS     41   N OAK PARK AVE  T002   \n",
       "1   2 2008-06-11          CULEX RESTUANS     41   N OAK PARK AVE  T002   \n",
       "2   3 2008-06-11           CULEX PIPIENS     41   N OAK PARK AVE  T002   \n",
       "3   4 2008-06-11        CULEX SALINARIUS     41   N OAK PARK AVE  T002   \n",
       "4   5 2008-06-11         CULEX TERRITANS     41   N OAK PARK AVE  T002   \n",
       "\n",
       "   Latitude  Longitude  day  month  year  species_no  \n",
       "0  41.95469 -87.800991   11      6  2008         2.0  \n",
       "1  41.95469 -87.800991   11      6  2008         1.0  \n",
       "2  41.95469 -87.800991   11      6  2008         2.0  \n",
       "3  41.95469 -87.800991   11      6  2008         0.0  \n",
       "4  41.95469 -87.800991   11      6  2008         0.0  "
      ]
     },
     "execution_count": 12,
     "metadata": {},
     "output_type": "execute_result"
    }
   ],
   "source": [
    "# Check Species after update\n",
    "test.head()"
   ]
  },
  {
   "cell_type": "code",
   "execution_count": 13,
   "metadata": {},
   "outputs": [],
   "source": [
    "#Created a new dataset to sort the columns\n",
    "test_final = test.groupby(['Id','Date','day','month','year','Trap','Latitude', 'Longitude',\n",
    "                                 'Species','species_no'], as_index=False).sum().reindex()"
   ]
  },
  {
   "cell_type": "code",
   "execution_count": 14,
   "metadata": {},
   "outputs": [
    {
     "data": {
      "text/html": [
       "<div>\n",
       "<style scoped>\n",
       "    .dataframe tbody tr th:only-of-type {\n",
       "        vertical-align: middle;\n",
       "    }\n",
       "\n",
       "    .dataframe tbody tr th {\n",
       "        vertical-align: top;\n",
       "    }\n",
       "\n",
       "    .dataframe thead th {\n",
       "        text-align: right;\n",
       "    }\n",
       "</style>\n",
       "<table border=\"1\" class=\"dataframe\">\n",
       "  <thead>\n",
       "    <tr style=\"text-align: right;\">\n",
       "      <th></th>\n",
       "      <th>Id</th>\n",
       "      <th>Date</th>\n",
       "      <th>day</th>\n",
       "      <th>month</th>\n",
       "      <th>year</th>\n",
       "      <th>Trap</th>\n",
       "      <th>Latitude</th>\n",
       "      <th>Longitude</th>\n",
       "      <th>Species</th>\n",
       "      <th>species_no</th>\n",
       "      <th>Block</th>\n",
       "    </tr>\n",
       "  </thead>\n",
       "  <tbody>\n",
       "    <tr>\n",
       "      <th>0</th>\n",
       "      <td>1</td>\n",
       "      <td>2008-06-11</td>\n",
       "      <td>11</td>\n",
       "      <td>6</td>\n",
       "      <td>2008</td>\n",
       "      <td>T002</td>\n",
       "      <td>41.95469</td>\n",
       "      <td>-87.800991</td>\n",
       "      <td>CULEX PIPIENS/RESTUANS</td>\n",
       "      <td>2.0</td>\n",
       "      <td>41</td>\n",
       "    </tr>\n",
       "    <tr>\n",
       "      <th>1</th>\n",
       "      <td>2</td>\n",
       "      <td>2008-06-11</td>\n",
       "      <td>11</td>\n",
       "      <td>6</td>\n",
       "      <td>2008</td>\n",
       "      <td>T002</td>\n",
       "      <td>41.95469</td>\n",
       "      <td>-87.800991</td>\n",
       "      <td>CULEX RESTUANS</td>\n",
       "      <td>1.0</td>\n",
       "      <td>41</td>\n",
       "    </tr>\n",
       "    <tr>\n",
       "      <th>2</th>\n",
       "      <td>3</td>\n",
       "      <td>2008-06-11</td>\n",
       "      <td>11</td>\n",
       "      <td>6</td>\n",
       "      <td>2008</td>\n",
       "      <td>T002</td>\n",
       "      <td>41.95469</td>\n",
       "      <td>-87.800991</td>\n",
       "      <td>CULEX PIPIENS</td>\n",
       "      <td>2.0</td>\n",
       "      <td>41</td>\n",
       "    </tr>\n",
       "    <tr>\n",
       "      <th>3</th>\n",
       "      <td>4</td>\n",
       "      <td>2008-06-11</td>\n",
       "      <td>11</td>\n",
       "      <td>6</td>\n",
       "      <td>2008</td>\n",
       "      <td>T002</td>\n",
       "      <td>41.95469</td>\n",
       "      <td>-87.800991</td>\n",
       "      <td>CULEX SALINARIUS</td>\n",
       "      <td>0.0</td>\n",
       "      <td>41</td>\n",
       "    </tr>\n",
       "    <tr>\n",
       "      <th>4</th>\n",
       "      <td>5</td>\n",
       "      <td>2008-06-11</td>\n",
       "      <td>11</td>\n",
       "      <td>6</td>\n",
       "      <td>2008</td>\n",
       "      <td>T002</td>\n",
       "      <td>41.95469</td>\n",
       "      <td>-87.800991</td>\n",
       "      <td>CULEX TERRITANS</td>\n",
       "      <td>0.0</td>\n",
       "      <td>41</td>\n",
       "    </tr>\n",
       "  </tbody>\n",
       "</table>\n",
       "</div>"
      ],
      "text/plain": [
       "   Id       Date  day  month  year  Trap  Latitude  Longitude  \\\n",
       "0   1 2008-06-11   11      6  2008  T002  41.95469 -87.800991   \n",
       "1   2 2008-06-11   11      6  2008  T002  41.95469 -87.800991   \n",
       "2   3 2008-06-11   11      6  2008  T002  41.95469 -87.800991   \n",
       "3   4 2008-06-11   11      6  2008  T002  41.95469 -87.800991   \n",
       "4   5 2008-06-11   11      6  2008  T002  41.95469 -87.800991   \n",
       "\n",
       "                  Species  species_no  Block  \n",
       "0  CULEX PIPIENS/RESTUANS         2.0     41  \n",
       "1          CULEX RESTUANS         1.0     41  \n",
       "2           CULEX PIPIENS         2.0     41  \n",
       "3        CULEX SALINARIUS         0.0     41  \n",
       "4         CULEX TERRITANS         0.0     41  "
      ]
     },
     "execution_count": 14,
     "metadata": {},
     "output_type": "execute_result"
    }
   ],
   "source": [
    "test_final.head()"
   ]
  },
  {
   "cell_type": "code",
   "execution_count": 15,
   "metadata": {
    "ExecuteTime": {
     "end_time": "2021-01-09T05:11:08.211994Z",
     "start_time": "2021-01-09T05:10:26.877581Z"
    },
    "cell_id": "00022-6d967b8d-ec7b-4b93-95be-ff294a11596e",
    "deepnote_cell_type": "code"
   },
   "outputs": [],
   "source": [
    "# Add in column to indicate the weather station for each trap in test data\n",
    "import geopy.distance\n",
    "\n",
    "station1 = (41.995, -87.933) #Station 1: CHICAGO O'HARE INTERNATIONAL AIRPORT\n",
    "station2 = (41.786, -87.752) #Station 2: CHICAGO MIDWAY INTL ARPT\n",
    "def get_station(lat, long):\n",
    "    dist1 = geopy.distance.distance((lat, long), station1).km\n",
    "    dist2 = geopy.distance.distance((lat, long), station2).km\n",
    "    return 1 if dist1 < dist2 else 2\n",
    "\n",
    "test_final['Station'] = [get_station(test_final.loc[i,'Latitude'],test_final.loc[i,'Longitude']) for i in test_final.index]"
   ]
  },
  {
   "cell_type": "markdown",
   "metadata": {},
   "source": [
    "Combining test Datasets with train"
   ]
  },
  {
   "cell_type": "code",
   "execution_count": 16,
   "metadata": {
    "ExecuteTime": {
     "end_time": "2021-01-09T05:11:08.305667Z",
     "start_time": "2021-01-09T05:11:08.214607Z"
    },
    "cell_id": "00023-a6577c5b-d077-46b3-8591-97ac4d4281ab",
    "deepnote_cell_type": "code"
   },
   "outputs": [],
   "source": [
    "# Merge weather data with test data\n",
    "combined_test = pd.merge(test_final, weather, on=['Date','Station'], how='left')"
   ]
  },
  {
   "cell_type": "code",
   "execution_count": 17,
   "metadata": {
    "ExecuteTime": {
     "end_time": "2021-01-09T05:11:08.309679Z",
     "start_time": "2021-01-09T05:11:08.307229Z"
    },
    "cell_id": "00024-08a5df1c-3ca5-4211-980b-cd232cb13ba7",
    "deepnote_cell_type": "code"
   },
   "outputs": [],
   "source": [
    "# Add column for trap_sprayed to be zero since we do not have data of spraying effort in the years of test data\n",
    "#test['trap_sprayed'] = 0"
   ]
  },
  {
   "cell_type": "code",
   "execution_count": 18,
   "metadata": {},
   "outputs": [],
   "source": [
    "#Dropping unused features\n",
    "combined_test = combined_test.drop(columns=['Unnamed: 0','day_y', 'month_y','year_y'])\n",
    "\n",
    "\n",
    "#rename columns\n",
    "combined_test = combined_test.rename(columns={'day_x': 'day', 'month_x': 'month', 'year_x': 'year'})"
   ]
  },
  {
   "cell_type": "code",
   "execution_count": 19,
   "metadata": {
    "ExecuteTime": {
     "end_time": "2021-01-09T05:11:08.331869Z",
     "start_time": "2021-01-09T05:11:08.312318Z"
    },
    "cell_id": "00025-5c4ceda4-7a25-4d8c-946b-9d248f42e606",
    "deepnote_cell_type": "code"
   },
   "outputs": [
    {
     "data": {
      "text/plain": [
       "Index(['Id', 'Date', 'day', 'month', 'year', 'Trap', 'Latitude', 'Longitude',\n",
       "       'Species', 'species_no', 'Block', 'Station', 'Tmax', 'Tmin', 'Tavg',\n",
       "       'Depart', 'DewPoint', 'WetBulb', 'Heat', 'Cool', 'Sunrise', 'Sunset',\n",
       "       'PrecipTotal', 'StnPressure', 'SeaLevel', 'ResultSpeed', 'ResultDir',\n",
       "       'AvgSpeed'],\n",
       "      dtype='object')"
      ]
     },
     "execution_count": 19,
     "metadata": {},
     "output_type": "execute_result"
    }
   ],
   "source": [
    "# Check data after update\n",
    "combined_test.columns"
   ]
  },
  {
   "cell_type": "code",
   "execution_count": 20,
   "metadata": {},
   "outputs": [
    {
     "name": "stdout",
     "output_type": "stream",
     "text": [
      "<class 'pandas.core.frame.DataFrame'>\n",
      "Int64Index: 116293 entries, 0 to 116292\n",
      "Data columns (total 28 columns):\n",
      " #   Column       Non-Null Count   Dtype         \n",
      "---  ------       --------------   -----         \n",
      " 0   Id           116293 non-null  int64         \n",
      " 1   Date         116293 non-null  datetime64[ns]\n",
      " 2   day          116293 non-null  int64         \n",
      " 3   month        116293 non-null  int64         \n",
      " 4   year         116293 non-null  int64         \n",
      " 5   Trap         116293 non-null  object        \n",
      " 6   Latitude     116293 non-null  float64       \n",
      " 7   Longitude    116293 non-null  float64       \n",
      " 8   Species      116293 non-null  object        \n",
      " 9   species_no   116293 non-null  float64       \n",
      " 10  Block        116293 non-null  int64         \n",
      " 11  Station      116293 non-null  int64         \n",
      " 12  Tmax         116293 non-null  int64         \n",
      " 13  Tmin         116293 non-null  int64         \n",
      " 14  Tavg         116293 non-null  int64         \n",
      " 15  Depart       116293 non-null  int64         \n",
      " 16  DewPoint     116293 non-null  int64         \n",
      " 17  WetBulb      116293 non-null  float64       \n",
      " 18  Heat         116293 non-null  int64         \n",
      " 19  Cool         116293 non-null  int64         \n",
      " 20  Sunrise      116293 non-null  int64         \n",
      " 21  Sunset       116293 non-null  int64         \n",
      " 22  PrecipTotal  116293 non-null  float64       \n",
      " 23  StnPressure  116293 non-null  float64       \n",
      " 24  SeaLevel     116293 non-null  float64       \n",
      " 25  ResultSpeed  116293 non-null  float64       \n",
      " 26  ResultDir    116293 non-null  int64         \n",
      " 27  AvgSpeed     116293 non-null  float64       \n",
      "dtypes: datetime64[ns](1), float64(9), int64(16), object(2)\n",
      "memory usage: 25.7+ MB\n"
     ]
    }
   ],
   "source": [
    "combined_test.info()"
   ]
  },
  {
   "cell_type": "markdown",
   "metadata": {},
   "source": [
    "### Feature Engineering"
   ]
  },
  {
   "cell_type": "code",
   "execution_count": 21,
   "metadata": {},
   "outputs": [],
   "source": [
    "# Applying lowercase on the dataset\n",
    "combined_test.columns = combined_test.columns.map(lambda x: x.lower())"
   ]
  },
  {
   "cell_type": "code",
   "execution_count": 22,
   "metadata": {},
   "outputs": [],
   "source": [
    "# Create long-lat column by multiplying longitude and latitude, remove individual columns\n",
    "combined_test['long_lat'] = combined_test['latitude']*combined_test['longitude']\n",
    "combined_test.drop(['latitude','longitude'],axis=1,inplace=True)"
   ]
  },
  {
   "cell_type": "code",
   "execution_count": 23,
   "metadata": {},
   "outputs": [
    {
     "data": {
      "text/html": [
       "<div>\n",
       "<style scoped>\n",
       "    .dataframe tbody tr th:only-of-type {\n",
       "        vertical-align: middle;\n",
       "    }\n",
       "\n",
       "    .dataframe tbody tr th {\n",
       "        vertical-align: top;\n",
       "    }\n",
       "\n",
       "    .dataframe thead th {\n",
       "        text-align: right;\n",
       "    }\n",
       "</style>\n",
       "<table border=\"1\" class=\"dataframe\">\n",
       "  <thead>\n",
       "    <tr style=\"text-align: right;\">\n",
       "      <th></th>\n",
       "      <th>id</th>\n",
       "      <th>date</th>\n",
       "      <th>day</th>\n",
       "      <th>month</th>\n",
       "      <th>year</th>\n",
       "      <th>trap</th>\n",
       "      <th>species</th>\n",
       "      <th>species_no</th>\n",
       "      <th>block</th>\n",
       "      <th>station</th>\n",
       "      <th>...</th>\n",
       "      <th>cool</th>\n",
       "      <th>sunrise</th>\n",
       "      <th>sunset</th>\n",
       "      <th>preciptotal</th>\n",
       "      <th>stnpressure</th>\n",
       "      <th>sealevel</th>\n",
       "      <th>resultspeed</th>\n",
       "      <th>resultdir</th>\n",
       "      <th>avgspeed</th>\n",
       "      <th>long_lat</th>\n",
       "    </tr>\n",
       "  </thead>\n",
       "  <tbody>\n",
       "    <tr>\n",
       "      <th>0</th>\n",
       "      <td>1</td>\n",
       "      <td>2008-06-11</td>\n",
       "      <td>11</td>\n",
       "      <td>6</td>\n",
       "      <td>2008</td>\n",
       "      <td>T002</td>\n",
       "      <td>CULEX PIPIENS/RESTUANS</td>\n",
       "      <td>2.0</td>\n",
       "      <td>41</td>\n",
       "      <td>1</td>\n",
       "      <td>...</td>\n",
       "      <td>9</td>\n",
       "      <td>416</td>\n",
       "      <td>1926</td>\n",
       "      <td>0.0</td>\n",
       "      <td>29.28</td>\n",
       "      <td>29.99</td>\n",
       "      <td>8.9</td>\n",
       "      <td>18</td>\n",
       "      <td>10.0</td>\n",
       "      <td>-3683.663359</td>\n",
       "    </tr>\n",
       "    <tr>\n",
       "      <th>1</th>\n",
       "      <td>2</td>\n",
       "      <td>2008-06-11</td>\n",
       "      <td>11</td>\n",
       "      <td>6</td>\n",
       "      <td>2008</td>\n",
       "      <td>T002</td>\n",
       "      <td>CULEX RESTUANS</td>\n",
       "      <td>1.0</td>\n",
       "      <td>41</td>\n",
       "      <td>1</td>\n",
       "      <td>...</td>\n",
       "      <td>9</td>\n",
       "      <td>416</td>\n",
       "      <td>1926</td>\n",
       "      <td>0.0</td>\n",
       "      <td>29.28</td>\n",
       "      <td>29.99</td>\n",
       "      <td>8.9</td>\n",
       "      <td>18</td>\n",
       "      <td>10.0</td>\n",
       "      <td>-3683.663359</td>\n",
       "    </tr>\n",
       "    <tr>\n",
       "      <th>2</th>\n",
       "      <td>3</td>\n",
       "      <td>2008-06-11</td>\n",
       "      <td>11</td>\n",
       "      <td>6</td>\n",
       "      <td>2008</td>\n",
       "      <td>T002</td>\n",
       "      <td>CULEX PIPIENS</td>\n",
       "      <td>2.0</td>\n",
       "      <td>41</td>\n",
       "      <td>1</td>\n",
       "      <td>...</td>\n",
       "      <td>9</td>\n",
       "      <td>416</td>\n",
       "      <td>1926</td>\n",
       "      <td>0.0</td>\n",
       "      <td>29.28</td>\n",
       "      <td>29.99</td>\n",
       "      <td>8.9</td>\n",
       "      <td>18</td>\n",
       "      <td>10.0</td>\n",
       "      <td>-3683.663359</td>\n",
       "    </tr>\n",
       "    <tr>\n",
       "      <th>3</th>\n",
       "      <td>4</td>\n",
       "      <td>2008-06-11</td>\n",
       "      <td>11</td>\n",
       "      <td>6</td>\n",
       "      <td>2008</td>\n",
       "      <td>T002</td>\n",
       "      <td>CULEX SALINARIUS</td>\n",
       "      <td>0.0</td>\n",
       "      <td>41</td>\n",
       "      <td>1</td>\n",
       "      <td>...</td>\n",
       "      <td>9</td>\n",
       "      <td>416</td>\n",
       "      <td>1926</td>\n",
       "      <td>0.0</td>\n",
       "      <td>29.28</td>\n",
       "      <td>29.99</td>\n",
       "      <td>8.9</td>\n",
       "      <td>18</td>\n",
       "      <td>10.0</td>\n",
       "      <td>-3683.663359</td>\n",
       "    </tr>\n",
       "    <tr>\n",
       "      <th>4</th>\n",
       "      <td>5</td>\n",
       "      <td>2008-06-11</td>\n",
       "      <td>11</td>\n",
       "      <td>6</td>\n",
       "      <td>2008</td>\n",
       "      <td>T002</td>\n",
       "      <td>CULEX TERRITANS</td>\n",
       "      <td>0.0</td>\n",
       "      <td>41</td>\n",
       "      <td>1</td>\n",
       "      <td>...</td>\n",
       "      <td>9</td>\n",
       "      <td>416</td>\n",
       "      <td>1926</td>\n",
       "      <td>0.0</td>\n",
       "      <td>29.28</td>\n",
       "      <td>29.99</td>\n",
       "      <td>8.9</td>\n",
       "      <td>18</td>\n",
       "      <td>10.0</td>\n",
       "      <td>-3683.663359</td>\n",
       "    </tr>\n",
       "  </tbody>\n",
       "</table>\n",
       "<p>5 rows × 27 columns</p>\n",
       "</div>"
      ],
      "text/plain": [
       "   id       date  day  month  year  trap                 species  species_no  \\\n",
       "0   1 2008-06-11   11      6  2008  T002  CULEX PIPIENS/RESTUANS         2.0   \n",
       "1   2 2008-06-11   11      6  2008  T002          CULEX RESTUANS         1.0   \n",
       "2   3 2008-06-11   11      6  2008  T002           CULEX PIPIENS         2.0   \n",
       "3   4 2008-06-11   11      6  2008  T002        CULEX SALINARIUS         0.0   \n",
       "4   5 2008-06-11   11      6  2008  T002         CULEX TERRITANS         0.0   \n",
       "\n",
       "   block  station  ...  cool  sunrise  sunset  preciptotal  stnpressure  \\\n",
       "0     41        1  ...     9      416    1926          0.0        29.28   \n",
       "1     41        1  ...     9      416    1926          0.0        29.28   \n",
       "2     41        1  ...     9      416    1926          0.0        29.28   \n",
       "3     41        1  ...     9      416    1926          0.0        29.28   \n",
       "4     41        1  ...     9      416    1926          0.0        29.28   \n",
       "\n",
       "   sealevel  resultspeed  resultdir  avgspeed     long_lat  \n",
       "0     29.99          8.9         18      10.0 -3683.663359  \n",
       "1     29.99          8.9         18      10.0 -3683.663359  \n",
       "2     29.99          8.9         18      10.0 -3683.663359  \n",
       "3     29.99          8.9         18      10.0 -3683.663359  \n",
       "4     29.99          8.9         18      10.0 -3683.663359  \n",
       "\n",
       "[5 rows x 27 columns]"
      ]
     },
     "execution_count": 23,
     "metadata": {},
     "output_type": "execute_result"
    }
   ],
   "source": [
    "combined_test.head()"
   ]
  },
  {
   "cell_type": "code",
   "execution_count": 24,
   "metadata": {
    "ExecuteTime": {
     "end_time": "2021-01-09T05:10:26.692387Z",
     "start_time": "2021-01-09T05:10:26.513743Z"
    },
    "cell_id": "00021-bea90a81-2856-4fd3-aa8e-a51a75dbf2dc",
    "deepnote_cell_type": "code"
   },
   "outputs": [],
   "source": [
    "# One-hot encode the traps\n",
    "combined_test = pd.get_dummies(data=combined_test, columns=['trap'])"
   ]
  },
  {
   "cell_type": "code",
   "execution_count": 25,
   "metadata": {},
   "outputs": [
    {
     "data": {
      "text/plain": [
       "Index(['species_no', 'month', 'sunrise', 'dewpoint', 'wetbulb', 'trap_T900',\n",
       "       'tmin', 'tavg', 'cool', 'station', 'depart', 'sunset', 'tmax', 'heat',\n",
       "       'resultspeed', 'long_lat', 'year', 'avgspeed', 'trap_T003', 'trap_T086',\n",
       "       'trap_T225', 'trap_T143', 'trap_T115', 'trap_T002', 'trap_T223',\n",
       "       'trap_T046', 'trap_T006', 'trap_T233', 'trap_T013', 'trap_T235',\n",
       "       'trap_T017', 'trap_T014', 'trap_T230', 'trap_T148', 'trap_T200',\n",
       "       'trap_T018', 'trap_T043', 'trap_T103', 'trap_T015', 'trap_T096'],\n",
       "      dtype='object')"
      ]
     },
     "execution_count": 25,
     "metadata": {},
     "output_type": "execute_result"
    }
   ],
   "source": [
    "features = X_train.columns\n",
    "features"
   ]
  },
  {
   "cell_type": "code",
   "execution_count": 26,
   "metadata": {
    "ExecuteTime": {
     "end_time": "2021-01-09T05:11:08.468211Z",
     "start_time": "2021-01-09T05:11:08.339263Z"
    },
    "cell_id": "00027-bd1d820b-d825-4369-9648-4a1a21ec3472",
    "deepnote_cell_type": "code"
   },
   "outputs": [
    {
     "data": {
      "text/html": [
       "<div>\n",
       "<style scoped>\n",
       "    .dataframe tbody tr th:only-of-type {\n",
       "        vertical-align: middle;\n",
       "    }\n",
       "\n",
       "    .dataframe tbody tr th {\n",
       "        vertical-align: top;\n",
       "    }\n",
       "\n",
       "    .dataframe thead th {\n",
       "        text-align: right;\n",
       "    }\n",
       "</style>\n",
       "<table border=\"1\" class=\"dataframe\">\n",
       "  <thead>\n",
       "    <tr style=\"text-align: right;\">\n",
       "      <th></th>\n",
       "      <th>species_no</th>\n",
       "      <th>month</th>\n",
       "      <th>sunrise</th>\n",
       "      <th>dewpoint</th>\n",
       "      <th>wetbulb</th>\n",
       "      <th>trap_T900</th>\n",
       "      <th>tmin</th>\n",
       "      <th>tavg</th>\n",
       "      <th>cool</th>\n",
       "      <th>station</th>\n",
       "      <th>...</th>\n",
       "      <th>trap_T017</th>\n",
       "      <th>trap_T014</th>\n",
       "      <th>trap_T230</th>\n",
       "      <th>trap_T148</th>\n",
       "      <th>trap_T200</th>\n",
       "      <th>trap_T018</th>\n",
       "      <th>trap_T043</th>\n",
       "      <th>trap_T103</th>\n",
       "      <th>trap_T015</th>\n",
       "      <th>trap_T096</th>\n",
       "    </tr>\n",
       "  </thead>\n",
       "  <tbody>\n",
       "    <tr>\n",
       "      <th>0</th>\n",
       "      <td>2.0</td>\n",
       "      <td>6</td>\n",
       "      <td>416</td>\n",
       "      <td>56</td>\n",
       "      <td>64.0</td>\n",
       "      <td>0</td>\n",
       "      <td>61</td>\n",
       "      <td>74</td>\n",
       "      <td>9</td>\n",
       "      <td>1</td>\n",
       "      <td>...</td>\n",
       "      <td>0</td>\n",
       "      <td>0</td>\n",
       "      <td>0</td>\n",
       "      <td>0</td>\n",
       "      <td>0</td>\n",
       "      <td>0</td>\n",
       "      <td>0</td>\n",
       "      <td>0</td>\n",
       "      <td>0</td>\n",
       "      <td>0</td>\n",
       "    </tr>\n",
       "    <tr>\n",
       "      <th>1</th>\n",
       "      <td>1.0</td>\n",
       "      <td>6</td>\n",
       "      <td>416</td>\n",
       "      <td>56</td>\n",
       "      <td>64.0</td>\n",
       "      <td>0</td>\n",
       "      <td>61</td>\n",
       "      <td>74</td>\n",
       "      <td>9</td>\n",
       "      <td>1</td>\n",
       "      <td>...</td>\n",
       "      <td>0</td>\n",
       "      <td>0</td>\n",
       "      <td>0</td>\n",
       "      <td>0</td>\n",
       "      <td>0</td>\n",
       "      <td>0</td>\n",
       "      <td>0</td>\n",
       "      <td>0</td>\n",
       "      <td>0</td>\n",
       "      <td>0</td>\n",
       "    </tr>\n",
       "    <tr>\n",
       "      <th>2</th>\n",
       "      <td>2.0</td>\n",
       "      <td>6</td>\n",
       "      <td>416</td>\n",
       "      <td>56</td>\n",
       "      <td>64.0</td>\n",
       "      <td>0</td>\n",
       "      <td>61</td>\n",
       "      <td>74</td>\n",
       "      <td>9</td>\n",
       "      <td>1</td>\n",
       "      <td>...</td>\n",
       "      <td>0</td>\n",
       "      <td>0</td>\n",
       "      <td>0</td>\n",
       "      <td>0</td>\n",
       "      <td>0</td>\n",
       "      <td>0</td>\n",
       "      <td>0</td>\n",
       "      <td>0</td>\n",
       "      <td>0</td>\n",
       "      <td>0</td>\n",
       "    </tr>\n",
       "    <tr>\n",
       "      <th>3</th>\n",
       "      <td>0.0</td>\n",
       "      <td>6</td>\n",
       "      <td>416</td>\n",
       "      <td>56</td>\n",
       "      <td>64.0</td>\n",
       "      <td>0</td>\n",
       "      <td>61</td>\n",
       "      <td>74</td>\n",
       "      <td>9</td>\n",
       "      <td>1</td>\n",
       "      <td>...</td>\n",
       "      <td>0</td>\n",
       "      <td>0</td>\n",
       "      <td>0</td>\n",
       "      <td>0</td>\n",
       "      <td>0</td>\n",
       "      <td>0</td>\n",
       "      <td>0</td>\n",
       "      <td>0</td>\n",
       "      <td>0</td>\n",
       "      <td>0</td>\n",
       "    </tr>\n",
       "    <tr>\n",
       "      <th>4</th>\n",
       "      <td>0.0</td>\n",
       "      <td>6</td>\n",
       "      <td>416</td>\n",
       "      <td>56</td>\n",
       "      <td>64.0</td>\n",
       "      <td>0</td>\n",
       "      <td>61</td>\n",
       "      <td>74</td>\n",
       "      <td>9</td>\n",
       "      <td>1</td>\n",
       "      <td>...</td>\n",
       "      <td>0</td>\n",
       "      <td>0</td>\n",
       "      <td>0</td>\n",
       "      <td>0</td>\n",
       "      <td>0</td>\n",
       "      <td>0</td>\n",
       "      <td>0</td>\n",
       "      <td>0</td>\n",
       "      <td>0</td>\n",
       "      <td>0</td>\n",
       "    </tr>\n",
       "  </tbody>\n",
       "</table>\n",
       "<p>5 rows × 40 columns</p>\n",
       "</div>"
      ],
      "text/plain": [
       "   species_no  month  sunrise  dewpoint  wetbulb  trap_T900  tmin  tavg  cool  \\\n",
       "0         2.0      6      416        56     64.0          0    61    74     9   \n",
       "1         1.0      6      416        56     64.0          0    61    74     9   \n",
       "2         2.0      6      416        56     64.0          0    61    74     9   \n",
       "3         0.0      6      416        56     64.0          0    61    74     9   \n",
       "4         0.0      6      416        56     64.0          0    61    74     9   \n",
       "\n",
       "   station  ...  trap_T017  trap_T014  trap_T230  trap_T148  trap_T200  \\\n",
       "0        1  ...          0          0          0          0          0   \n",
       "1        1  ...          0          0          0          0          0   \n",
       "2        1  ...          0          0          0          0          0   \n",
       "3        1  ...          0          0          0          0          0   \n",
       "4        1  ...          0          0          0          0          0   \n",
       "\n",
       "   trap_T018  trap_T043  trap_T103  trap_T015  trap_T096  \n",
       "0          0          0          0          0          0  \n",
       "1          0          0          0          0          0  \n",
       "2          0          0          0          0          0  \n",
       "3          0          0          0          0          0  \n",
       "4          0          0          0          0          0  \n",
       "\n",
       "[5 rows x 40 columns]"
      ]
     },
     "execution_count": 26,
     "metadata": {},
     "output_type": "execute_result"
    }
   ],
   "source": [
    "X_test = combined_test[features]\n",
    "X_test.head()"
   ]
  },
  {
   "cell_type": "markdown",
   "metadata": {
    "cell_id": "00028-e97d3f44-76eb-4e72-855b-57849427bea5",
    "deepnote_cell_type": "markdown"
   },
   "source": [
    "## Predictions\n",
    "\n",
    "Now that the test data is ready, we can load in our production model and use it for predictions."
   ]
  },
  {
   "cell_type": "code",
   "execution_count": 27,
   "metadata": {},
   "outputs": [
    {
     "name": "stdout",
     "output_type": "stream",
     "text": [
      "StandardScaler()\n",
      "AdaBoostClassifier(learning_rate=1, n_estimators=20, random_state=42)\n"
     ]
    }
   ],
   "source": [
    "# Load in production model and scaler\n",
    "poly = pickle.load(open('polyfeat.pkl', 'rb'))\n",
    "ss = pickle.load(open('scaler.pkl', 'rb'))\n",
    "model = pickle.load(open('production_model.pkl', 'rb'))\n",
    "\n",
    "print(ss)\n",
    "print(model)"
   ]
  },
  {
   "cell_type": "code",
   "execution_count": 28,
   "metadata": {},
   "outputs": [],
   "source": [
    "# PolyNomial with default degree=2\n",
    "\n",
    "X_test = poly.transform(X_test)"
   ]
  },
  {
   "cell_type": "code",
   "execution_count": 29,
   "metadata": {
    "ExecuteTime": {
     "end_time": "2021-01-09T05:11:08.792367Z",
     "start_time": "2021-01-09T05:11:08.482470Z"
    },
    "cell_id": "00030-021aa071-4f19-47b1-b8d3-a6557ebcdc93",
    "deepnote_cell_type": "code"
   },
   "outputs": [],
   "source": [
    "# Scale test data\n",
    "X_test_sc = ss.transform(X_test)"
   ]
  },
  {
   "cell_type": "code",
   "execution_count": 30,
   "metadata": {
    "ExecuteTime": {
     "end_time": "2021-01-09T05:11:09.850485Z",
     "start_time": "2021-01-09T05:11:08.796803Z"
    },
    "cell_id": "00031-75172a21-ff03-4864-bc9b-0c97954e6a58",
    "deepnote_cell_type": "code"
   },
   "outputs": [
    {
     "data": {
      "text/plain": [
       "array([0, 0, 0, ..., 0, 0, 0], dtype=int64)"
      ]
     },
     "execution_count": 30,
     "metadata": {},
     "output_type": "execute_result"
    }
   ],
   "source": [
    "predictions = model.predict(X_test_sc)\n",
    "predictions"
   ]
  },
  {
   "cell_type": "code",
   "execution_count": 35,
   "metadata": {},
   "outputs": [],
   "source": [
    "# Predict the probability \n",
    "pred_proba_t = [i[1] for i in model.predict_proba(X_test_sc)]"
   ]
  },
  {
   "cell_type": "code",
   "execution_count": null,
   "metadata": {},
   "outputs": [],
   "source": []
  },
  {
   "cell_type": "code",
   "execution_count": 36,
   "metadata": {
    "ExecuteTime": {
     "end_time": "2021-01-09T05:11:09.856175Z",
     "start_time": "2021-01-09T05:11:09.852638Z"
    },
    "cell_id": "00032-14e55ab0-3fd7-4e40-bb30-e53d16ddce2c",
    "deepnote_cell_type": "code"
   },
   "outputs": [],
   "source": [
    "# Set up dataframe to save as .csv for submission\n",
    "submission = pd.DataFrame(test['Id'])\n",
    "\n",
    "# Add in the predictions\n",
    "submission['WnvPresent'] = pred_proba_t"
   ]
  },
  {
   "cell_type": "code",
   "execution_count": 37,
   "metadata": {
    "ExecuteTime": {
     "end_time": "2021-01-09T05:11:09.863862Z",
     "start_time": "2021-01-09T05:11:09.857689Z"
    },
    "cell_id": "00033-c918d49c-30d3-421e-9812-808e36ab0915",
    "deepnote_cell_type": "code"
   },
   "outputs": [
    {
     "data": {
      "text/html": [
       "<div>\n",
       "<style scoped>\n",
       "    .dataframe tbody tr th:only-of-type {\n",
       "        vertical-align: middle;\n",
       "    }\n",
       "\n",
       "    .dataframe tbody tr th {\n",
       "        vertical-align: top;\n",
       "    }\n",
       "\n",
       "    .dataframe thead th {\n",
       "        text-align: right;\n",
       "    }\n",
       "</style>\n",
       "<table border=\"1\" class=\"dataframe\">\n",
       "  <thead>\n",
       "    <tr style=\"text-align: right;\">\n",
       "      <th></th>\n",
       "      <th>Id</th>\n",
       "      <th>WnvPresent</th>\n",
       "    </tr>\n",
       "  </thead>\n",
       "  <tbody>\n",
       "    <tr>\n",
       "      <th>0</th>\n",
       "      <td>1</td>\n",
       "      <td>0.398230</td>\n",
       "    </tr>\n",
       "    <tr>\n",
       "      <th>1</th>\n",
       "      <td>2</td>\n",
       "      <td>0.367207</td>\n",
       "    </tr>\n",
       "    <tr>\n",
       "      <th>2</th>\n",
       "      <td>3</td>\n",
       "      <td>0.398230</td>\n",
       "    </tr>\n",
       "    <tr>\n",
       "      <th>3</th>\n",
       "      <td>4</td>\n",
       "      <td>0.367207</td>\n",
       "    </tr>\n",
       "    <tr>\n",
       "      <th>4</th>\n",
       "      <td>5</td>\n",
       "      <td>0.367207</td>\n",
       "    </tr>\n",
       "    <tr>\n",
       "      <th>5</th>\n",
       "      <td>6</td>\n",
       "      <td>0.367207</td>\n",
       "    </tr>\n",
       "    <tr>\n",
       "      <th>6</th>\n",
       "      <td>7</td>\n",
       "      <td>0.367207</td>\n",
       "    </tr>\n",
       "    <tr>\n",
       "      <th>7</th>\n",
       "      <td>8</td>\n",
       "      <td>0.367207</td>\n",
       "    </tr>\n",
       "    <tr>\n",
       "      <th>8</th>\n",
       "      <td>9</td>\n",
       "      <td>0.398230</td>\n",
       "    </tr>\n",
       "    <tr>\n",
       "      <th>9</th>\n",
       "      <td>10</td>\n",
       "      <td>0.367207</td>\n",
       "    </tr>\n",
       "  </tbody>\n",
       "</table>\n",
       "</div>"
      ],
      "text/plain": [
       "   Id  WnvPresent\n",
       "0   1    0.398230\n",
       "1   2    0.367207\n",
       "2   3    0.398230\n",
       "3   4    0.367207\n",
       "4   5    0.367207\n",
       "5   6    0.367207\n",
       "6   7    0.367207\n",
       "7   8    0.367207\n",
       "8   9    0.398230\n",
       "9  10    0.367207"
      ]
     },
     "execution_count": 37,
     "metadata": {},
     "output_type": "execute_result"
    }
   ],
   "source": [
    "submission.head(10)"
   ]
  },
  {
   "cell_type": "code",
   "execution_count": 38,
   "metadata": {
    "ExecuteTime": {
     "end_time": "2021-01-09T05:11:09.870830Z",
     "start_time": "2021-01-09T05:11:09.865421Z"
    },
    "cell_id": "00034-bb5eb4af-bc61-4aa5-9cd7-d44f0f394da8",
    "deepnote_cell_type": "code"
   },
   "outputs": [
    {
     "data": {
      "text/plain": [
       "0.376943    13253\n",
       "0.367207     7133\n",
       "0.412900     3725\n",
       "0.420645     3500\n",
       "0.393706     3387\n",
       "            ...  \n",
       "0.505588        1\n",
       "0.453388        1\n",
       "0.510419        1\n",
       "0.509474        1\n",
       "0.479950        1\n",
       "Name: WnvPresent, Length: 442, dtype: int64"
      ]
     },
     "execution_count": 38,
     "metadata": {},
     "output_type": "execute_result"
    }
   ],
   "source": [
    "submission['WnvPresent'].value_counts()"
   ]
  },
  {
   "cell_type": "markdown",
   "metadata": {
    "cell_id": "00035-5560005e-fb16-4834-9709-6f6a3421d2a0",
    "deepnote_cell_type": "markdown"
   },
   "source": [
    "#### Save predictions as `.csv` and submit"
   ]
  },
  {
   "cell_type": "code",
   "execution_count": 39,
   "metadata": {
    "ExecuteTime": {
     "end_time": "2021-01-09T05:11:10.025131Z",
     "start_time": "2021-01-09T05:11:09.872871Z"
    },
    "cell_id": "00036-0bf8eb53-5ba6-4725-89ba-5a9792aa1930",
    "deepnote_cell_type": "code"
   },
   "outputs": [],
   "source": [
    "# Save csv\n",
    "submission.to_csv('../assets/submission_predictions.csv', index=False)"
   ]
  },
  {
   "cell_type": "markdown",
   "metadata": {
    "cell_id": "00037-5661eecd-2e90-4b98-bc95-de88bfcd7eb6",
    "deepnote_cell_type": "markdown"
   },
   "source": [
    "![Submission](../images/kaggle_submission.png)"
   ]
  }
 ],
 "metadata": {
  "deepnote_execution_queue": [],
  "deepnote_notebook_id": "73dbff11-f354-4aba-8cec-a92c88a75416",
  "kernelspec": {
   "display_name": "Python 3",
   "language": "python",
   "name": "python3"
  },
  "language_info": {
   "codemirror_mode": {
    "name": "ipython",
    "version": 3
   },
   "file_extension": ".py",
   "mimetype": "text/x-python",
   "name": "python",
   "nbconvert_exporter": "python",
   "pygments_lexer": "ipython3",
   "version": "3.8.8"
  },
  "toc": {
   "base_numbering": 1,
   "nav_menu": {},
   "number_sections": false,
   "sideBar": true,
   "skip_h1_title": true,
   "title_cell": "Table of Contents",
   "title_sidebar": "Contents",
   "toc_cell": false,
   "toc_position": {},
   "toc_section_display": true,
   "toc_window_display": true
  },
  "varInspector": {
   "cols": {
    "lenName": 16,
    "lenType": 16,
    "lenVar": 40
   },
   "kernels_config": {
    "python": {
     "delete_cmd_postfix": "",
     "delete_cmd_prefix": "del ",
     "library": "var_list.py",
     "varRefreshCmd": "print(var_dic_list())"
    },
    "r": {
     "delete_cmd_postfix": ") ",
     "delete_cmd_prefix": "rm(",
     "library": "var_list.r",
     "varRefreshCmd": "cat(var_dic_list()) "
    }
   },
   "types_to_exclude": [
    "module",
    "function",
    "builtin_function_or_method",
    "instance",
    "_Feature"
   ],
   "window_display": false
  }
 },
 "nbformat": 4,
 "nbformat_minor": 4
}
