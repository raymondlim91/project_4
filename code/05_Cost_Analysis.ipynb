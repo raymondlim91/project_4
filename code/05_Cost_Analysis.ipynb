{
 "cells": [
  {
   "cell_type": "markdown",
   "id": "a5b65469-aa3d-4f7a-bbc5-059fb690239d",
   "metadata": {},
   "source": [
    "# Cost Benefit Analysis\n",
    "\n",
    "## Libraries & Data Import"
   ]
  },
  {
   "cell_type": "code",
   "execution_count": 42,
   "id": "f509aa0d-9584-45c8-9929-a529ea5b322a",
   "metadata": {},
   "outputs": [],
   "source": [
    "import pandas as pd\n",
    "import numpy as np\n",
    "import matplotlib.pyplot as plt\n",
    "import seaborn as sns\n",
    "import math \n",
    "\n",
    "%matplotlib inline"
   ]
  },
  {
   "cell_type": "code",
   "execution_count": 2,
   "id": "0ed4cbc9-16a0-4029-bf56-e3b196f778d9",
   "metadata": {},
   "outputs": [],
   "source": [
    "# import cleaned datasets/ original Kaggle datasets \n",
    "spray = pd.read_csv(\"../assets/cleaned_spray.csv\")\n",
    "train = pd.read_csv(\"../assets/train.csv\")"
   ]
  },
  {
   "cell_type": "code",
   "execution_count": 3,
   "id": "059783ec-1354-4af9-bf45-91ade9ab8410",
   "metadata": {},
   "outputs": [
    {
     "name": "stdout",
     "output_type": "stream",
     "text": [
      "(14835, 8)\n"
     ]
    },
    {
     "data": {
      "text/html": [
       "<div>\n",
       "<style scoped>\n",
       "    .dataframe tbody tr th:only-of-type {\n",
       "        vertical-align: middle;\n",
       "    }\n",
       "\n",
       "    .dataframe tbody tr th {\n",
       "        vertical-align: top;\n",
       "    }\n",
       "\n",
       "    .dataframe thead th {\n",
       "        text-align: right;\n",
       "    }\n",
       "</style>\n",
       "<table border=\"1\" class=\"dataframe\">\n",
       "  <thead>\n",
       "    <tr style=\"text-align: right;\">\n",
       "      <th></th>\n",
       "      <th>date</th>\n",
       "      <th>time</th>\n",
       "      <th>latitude</th>\n",
       "      <th>longitude</th>\n",
       "      <th>time_24h</th>\n",
       "      <th>day</th>\n",
       "      <th>month</th>\n",
       "      <th>year</th>\n",
       "    </tr>\n",
       "  </thead>\n",
       "  <tbody>\n",
       "    <tr>\n",
       "      <th>0</th>\n",
       "      <td>2011-08-29</td>\n",
       "      <td>6:56:58 PM</td>\n",
       "      <td>42.391623</td>\n",
       "      <td>-88.089163</td>\n",
       "      <td>18:56:58</td>\n",
       "      <td>29</td>\n",
       "      <td>8</td>\n",
       "      <td>2011</td>\n",
       "    </tr>\n",
       "    <tr>\n",
       "      <th>1</th>\n",
       "      <td>2011-08-29</td>\n",
       "      <td>6:57:08 PM</td>\n",
       "      <td>42.391348</td>\n",
       "      <td>-88.089163</td>\n",
       "      <td>18:57:08</td>\n",
       "      <td>29</td>\n",
       "      <td>8</td>\n",
       "      <td>2011</td>\n",
       "    </tr>\n",
       "    <tr>\n",
       "      <th>2</th>\n",
       "      <td>2011-08-29</td>\n",
       "      <td>6:57:18 PM</td>\n",
       "      <td>42.391022</td>\n",
       "      <td>-88.089157</td>\n",
       "      <td>18:57:18</td>\n",
       "      <td>29</td>\n",
       "      <td>8</td>\n",
       "      <td>2011</td>\n",
       "    </tr>\n",
       "    <tr>\n",
       "      <th>3</th>\n",
       "      <td>2011-08-29</td>\n",
       "      <td>6:57:28 PM</td>\n",
       "      <td>42.390637</td>\n",
       "      <td>-88.089158</td>\n",
       "      <td>18:57:28</td>\n",
       "      <td>29</td>\n",
       "      <td>8</td>\n",
       "      <td>2011</td>\n",
       "    </tr>\n",
       "    <tr>\n",
       "      <th>4</th>\n",
       "      <td>2011-08-29</td>\n",
       "      <td>6:57:38 PM</td>\n",
       "      <td>42.390410</td>\n",
       "      <td>-88.088858</td>\n",
       "      <td>18:57:38</td>\n",
       "      <td>29</td>\n",
       "      <td>8</td>\n",
       "      <td>2011</td>\n",
       "    </tr>\n",
       "  </tbody>\n",
       "</table>\n",
       "</div>"
      ],
      "text/plain": [
       "         date        time   latitude  longitude  time_24h  day  month  year\n",
       "0  2011-08-29  6:56:58 PM  42.391623 -88.089163  18:56:58   29      8  2011\n",
       "1  2011-08-29  6:57:08 PM  42.391348 -88.089163  18:57:08   29      8  2011\n",
       "2  2011-08-29  6:57:18 PM  42.391022 -88.089157  18:57:18   29      8  2011\n",
       "3  2011-08-29  6:57:28 PM  42.390637 -88.089158  18:57:28   29      8  2011\n",
       "4  2011-08-29  6:57:38 PM  42.390410 -88.088858  18:57:38   29      8  2011"
      ]
     },
     "execution_count": 3,
     "metadata": {},
     "output_type": "execute_result"
    }
   ],
   "source": [
    "# see shape and head\n",
    "print(spray.shape)\n",
    "spray.head()"
   ]
  },
  {
   "cell_type": "code",
   "execution_count": 4,
   "id": "23aaf0bf-d0b8-4013-81fc-b1639442bca4",
   "metadata": {},
   "outputs": [
    {
     "name": "stdout",
     "output_type": "stream",
     "text": [
      "(10506, 12)\n"
     ]
    },
    {
     "data": {
      "text/html": [
       "<div>\n",
       "<style scoped>\n",
       "    .dataframe tbody tr th:only-of-type {\n",
       "        vertical-align: middle;\n",
       "    }\n",
       "\n",
       "    .dataframe tbody tr th {\n",
       "        vertical-align: top;\n",
       "    }\n",
       "\n",
       "    .dataframe thead th {\n",
       "        text-align: right;\n",
       "    }\n",
       "</style>\n",
       "<table border=\"1\" class=\"dataframe\">\n",
       "  <thead>\n",
       "    <tr style=\"text-align: right;\">\n",
       "      <th></th>\n",
       "      <th>Date</th>\n",
       "      <th>Address</th>\n",
       "      <th>Species</th>\n",
       "      <th>Block</th>\n",
       "      <th>Street</th>\n",
       "      <th>Trap</th>\n",
       "      <th>AddressNumberAndStreet</th>\n",
       "      <th>Latitude</th>\n",
       "      <th>Longitude</th>\n",
       "      <th>AddressAccuracy</th>\n",
       "      <th>NumMosquitos</th>\n",
       "      <th>WnvPresent</th>\n",
       "    </tr>\n",
       "  </thead>\n",
       "  <tbody>\n",
       "    <tr>\n",
       "      <th>0</th>\n",
       "      <td>2007-05-29</td>\n",
       "      <td>4100 North Oak Park Avenue, Chicago, IL 60634,...</td>\n",
       "      <td>CULEX PIPIENS/RESTUANS</td>\n",
       "      <td>41</td>\n",
       "      <td>N OAK PARK AVE</td>\n",
       "      <td>T002</td>\n",
       "      <td>4100  N OAK PARK AVE, Chicago, IL</td>\n",
       "      <td>41.954690</td>\n",
       "      <td>-87.800991</td>\n",
       "      <td>9</td>\n",
       "      <td>1</td>\n",
       "      <td>0</td>\n",
       "    </tr>\n",
       "    <tr>\n",
       "      <th>1</th>\n",
       "      <td>2007-05-29</td>\n",
       "      <td>4100 North Oak Park Avenue, Chicago, IL 60634,...</td>\n",
       "      <td>CULEX RESTUANS</td>\n",
       "      <td>41</td>\n",
       "      <td>N OAK PARK AVE</td>\n",
       "      <td>T002</td>\n",
       "      <td>4100  N OAK PARK AVE, Chicago, IL</td>\n",
       "      <td>41.954690</td>\n",
       "      <td>-87.800991</td>\n",
       "      <td>9</td>\n",
       "      <td>1</td>\n",
       "      <td>0</td>\n",
       "    </tr>\n",
       "    <tr>\n",
       "      <th>2</th>\n",
       "      <td>2007-05-29</td>\n",
       "      <td>6200 North Mandell Avenue, Chicago, IL 60646, USA</td>\n",
       "      <td>CULEX RESTUANS</td>\n",
       "      <td>62</td>\n",
       "      <td>N MANDELL AVE</td>\n",
       "      <td>T007</td>\n",
       "      <td>6200  N MANDELL AVE, Chicago, IL</td>\n",
       "      <td>41.994991</td>\n",
       "      <td>-87.769279</td>\n",
       "      <td>9</td>\n",
       "      <td>1</td>\n",
       "      <td>0</td>\n",
       "    </tr>\n",
       "    <tr>\n",
       "      <th>3</th>\n",
       "      <td>2007-05-29</td>\n",
       "      <td>7900 West Foster Avenue, Chicago, IL 60656, USA</td>\n",
       "      <td>CULEX PIPIENS/RESTUANS</td>\n",
       "      <td>79</td>\n",
       "      <td>W FOSTER AVE</td>\n",
       "      <td>T015</td>\n",
       "      <td>7900  W FOSTER AVE, Chicago, IL</td>\n",
       "      <td>41.974089</td>\n",
       "      <td>-87.824812</td>\n",
       "      <td>8</td>\n",
       "      <td>1</td>\n",
       "      <td>0</td>\n",
       "    </tr>\n",
       "    <tr>\n",
       "      <th>4</th>\n",
       "      <td>2007-05-29</td>\n",
       "      <td>7900 West Foster Avenue, Chicago, IL 60656, USA</td>\n",
       "      <td>CULEX RESTUANS</td>\n",
       "      <td>79</td>\n",
       "      <td>W FOSTER AVE</td>\n",
       "      <td>T015</td>\n",
       "      <td>7900  W FOSTER AVE, Chicago, IL</td>\n",
       "      <td>41.974089</td>\n",
       "      <td>-87.824812</td>\n",
       "      <td>8</td>\n",
       "      <td>4</td>\n",
       "      <td>0</td>\n",
       "    </tr>\n",
       "  </tbody>\n",
       "</table>\n",
       "</div>"
      ],
      "text/plain": [
       "         Date                                            Address  \\\n",
       "0  2007-05-29  4100 North Oak Park Avenue, Chicago, IL 60634,...   \n",
       "1  2007-05-29  4100 North Oak Park Avenue, Chicago, IL 60634,...   \n",
       "2  2007-05-29  6200 North Mandell Avenue, Chicago, IL 60646, USA   \n",
       "3  2007-05-29    7900 West Foster Avenue, Chicago, IL 60656, USA   \n",
       "4  2007-05-29    7900 West Foster Avenue, Chicago, IL 60656, USA   \n",
       "\n",
       "                  Species  Block           Street  Trap  \\\n",
       "0  CULEX PIPIENS/RESTUANS     41   N OAK PARK AVE  T002   \n",
       "1          CULEX RESTUANS     41   N OAK PARK AVE  T002   \n",
       "2          CULEX RESTUANS     62    N MANDELL AVE  T007   \n",
       "3  CULEX PIPIENS/RESTUANS     79     W FOSTER AVE  T015   \n",
       "4          CULEX RESTUANS     79     W FOSTER AVE  T015   \n",
       "\n",
       "              AddressNumberAndStreet   Latitude  Longitude  AddressAccuracy  \\\n",
       "0  4100  N OAK PARK AVE, Chicago, IL  41.954690 -87.800991                9   \n",
       "1  4100  N OAK PARK AVE, Chicago, IL  41.954690 -87.800991                9   \n",
       "2   6200  N MANDELL AVE, Chicago, IL  41.994991 -87.769279                9   \n",
       "3    7900  W FOSTER AVE, Chicago, IL  41.974089 -87.824812                8   \n",
       "4    7900  W FOSTER AVE, Chicago, IL  41.974089 -87.824812                8   \n",
       "\n",
       "   NumMosquitos  WnvPresent  \n",
       "0             1           0  \n",
       "1             1           0  \n",
       "2             1           0  \n",
       "3             1           0  \n",
       "4             4           0  "
      ]
     },
     "execution_count": 4,
     "metadata": {},
     "output_type": "execute_result"
    }
   ],
   "source": [
    "# see shape and head\n",
    "print(train.shape)\n",
    "train.head()"
   ]
  },
  {
   "cell_type": "code",
   "execution_count": 5,
   "id": "7f137b90-b957-4b3b-8e27-42d0e20c05a3",
   "metadata": {},
   "outputs": [
    {
     "name": "stdout",
     "output_type": "stream",
     "text": [
      "<class 'pandas.core.frame.DataFrame'>\n",
      "RangeIndex: 14835 entries, 0 to 14834\n",
      "Data columns (total 8 columns):\n",
      " #   Column     Non-Null Count  Dtype  \n",
      "---  ------     --------------  -----  \n",
      " 0   date       14835 non-null  object \n",
      " 1   time       14251 non-null  object \n",
      " 2   latitude   14835 non-null  float64\n",
      " 3   longitude  14835 non-null  float64\n",
      " 4   time_24h   14251 non-null  object \n",
      " 5   day        14835 non-null  int64  \n",
      " 6   month      14835 non-null  int64  \n",
      " 7   year       14835 non-null  int64  \n",
      "dtypes: float64(2), int64(3), object(3)\n",
      "memory usage: 927.3+ KB\n"
     ]
    }
   ],
   "source": [
    "# see Dtype and any missing data\n",
    "spray.info()"
   ]
  },
  {
   "cell_type": "code",
   "execution_count": 6,
   "id": "cb7fc94e-e725-4c0f-a34c-616b1fee8481",
   "metadata": {},
   "outputs": [
    {
     "name": "stdout",
     "output_type": "stream",
     "text": [
      "<class 'pandas.core.frame.DataFrame'>\n",
      "RangeIndex: 10506 entries, 0 to 10505\n",
      "Data columns (total 12 columns):\n",
      " #   Column                  Non-Null Count  Dtype  \n",
      "---  ------                  --------------  -----  \n",
      " 0   Date                    10506 non-null  object \n",
      " 1   Address                 10506 non-null  object \n",
      " 2   Species                 10506 non-null  object \n",
      " 3   Block                   10506 non-null  int64  \n",
      " 4   Street                  10506 non-null  object \n",
      " 5   Trap                    10506 non-null  object \n",
      " 6   AddressNumberAndStreet  10506 non-null  object \n",
      " 7   Latitude                10506 non-null  float64\n",
      " 8   Longitude               10506 non-null  float64\n",
      " 9   AddressAccuracy         10506 non-null  int64  \n",
      " 10  NumMosquitos            10506 non-null  int64  \n",
      " 11  WnvPresent              10506 non-null  int64  \n",
      "dtypes: float64(2), int64(4), object(6)\n",
      "memory usage: 985.1+ KB\n"
     ]
    }
   ],
   "source": [
    "# see Dtype and any missing data\n",
    "train.info()"
   ]
  },
  {
   "cell_type": "markdown",
   "id": "631c0ee9-1581-493d-a674-24d2b059449d",
   "metadata": {},
   "source": [
    "We will correct the Dtype for `Date`."
   ]
  },
  {
   "cell_type": "code",
   "execution_count": 7,
   "id": "d09f3ced-1130-4f42-81cb-80f129b6e4be",
   "metadata": {},
   "outputs": [],
   "source": [
    "train['Date'] = pd.to_datetime(train['Date'])\n",
    "spray['date'] = pd.to_datetime(spray['date'])"
   ]
  },
  {
   "cell_type": "code",
   "execution_count": 8,
   "id": "8d7dbe47-1516-4957-a013-cbae473d843b",
   "metadata": {},
   "outputs": [],
   "source": [
    "#2011 and 2013 spray dates\n",
    "# there is only this 2 year of data recorded within the excel\n",
    "spray_2011 = spray.loc[spray['year']==2011,'date'].unique()\n",
    "spray_2013 = spray.loc[spray['year']==2013,'date'].unique()"
   ]
  },
  {
   "cell_type": "code",
   "execution_count": 9,
   "id": "77f0d9db-3c89-4d8b-aeff-f72753f8e03c",
   "metadata": {},
   "outputs": [],
   "source": [
    "#2011 and 2013 wnv from train set\n",
    "# we will take the count of wnv instead of treating it as a categorical value\n",
    "wnv_2011 = train[train['Date'].dt.year==2011].groupby('Date')['WnvPresent'].sum()\n",
    "wnv_2013 = train[train['Date'].dt.year==2013].groupby('Date')['WnvPresent'].sum()"
   ]
  },
  {
   "cell_type": "code",
   "execution_count": 10,
   "id": "3c367571-8926-499e-a8f0-0f474026381f",
   "metadata": {},
   "outputs": [],
   "source": [
    "#2011 and 2013 num mosquitos from train set\n",
    "mosquitos_2011 = train[train['Date'].dt.year==2011].groupby('Date')['NumMosquitos'].sum()\n",
    "mosquitos_2013 = train[train['Date'].dt.year==2013].groupby('Date')['NumMosquitos'].sum()"
   ]
  },
  {
   "cell_type": "markdown",
   "id": "1864db5f-1992-4473-99dd-5087757c10b7",
   "metadata": {},
   "source": [
    "## Graph of the mosquito count vs Spray and West Nile Virus Mosquito vs Spray\n",
    "\n",
    "### 2011"
   ]
  },
  {
   "cell_type": "code",
   "execution_count": 11,
   "id": "de8807c5-0ee8-4a8f-8629-0a4a85657e02",
   "metadata": {},
   "outputs": [
    {
     "data": {
      "image/png": "[encoded data removed]",
      "text/plain": [
       "<Figure size 1080x576 with 2 Axes>"
      ]
     },
     "metadata": {
      "needs_background": "light"
     },
     "output_type": "display_data"
    }
   ],
   "source": [
    "fig, ax = plt.subplots(nrows=2,sharex=True, figsize=(15,8))\n",
    "\n",
    "#plot num mosquitos in 2011 against spray dates\n",
    "ax[0].plot(mosquitos_2011.index, mosquitos_2011.values)\n",
    "for spray_date in spray_2011:\n",
    "    ax[0].axvline(x=spray_date, color='grey', ls='--')\n",
    "ax[0].set_title('Number of Mosquitos in 2011')\n",
    "ax[0].legend(['Number of Mosquitos','Spray']);\n",
    "\n",
    "#plot wnv in 2011 against spray dates\n",
    "ax[1].plot(wnv_2011.index,wnv_2011.values, color='red')\n",
    "for spray_date in spray_2011:\n",
    "    ax[1].axvline(x=spray_date, color='grey', ls='--')\n",
    "ax[1].set_title('WNV Present in 2011')\n",
    "ax[1].legend(['WNV Present','Spray']);"
   ]
  },
  {
   "cell_type": "markdown",
   "id": "812c404b-79e6-4edc-a2c6-5bf41938497c",
   "metadata": {},
   "source": [
    "We see that there was a drop in the number of mosquitos during the first spray but not for the second spray. \n",
    "\n",
    "### 2013"
   ]
  },
  {
   "cell_type": "code",
   "execution_count": 12,
   "id": "9223a59a-f15d-45c1-8a11-44a26d42aee8",
   "metadata": {},
   "outputs": [
    {
     "data": {
      "image/png": "[encoded data removed]",
      "text/plain": [
       "<Figure size 1080x576 with 2 Axes>"
      ]
     },
     "metadata": {
      "needs_background": "light"
     },
     "output_type": "display_data"
    }
   ],
   "source": [
    "fig, ax = plt.subplots(nrows=2,sharex=True, figsize=(15,8))\n",
    "\n",
    "#plot num mosquitos in 2013 against spray dates\n",
    "ax[0].plot(mosquitos_2013.index, mosquitos_2013.values)\n",
    "for spray_date in spray_2013:\n",
    "    ax[0].axvline(x=spray_date, color='grey', ls='--')\n",
    "ax[0].set_title('Number of Mosquitos in 2013')\n",
    "ax[0].legend(['Number of Mosquitos','Spray']);\n",
    "\n",
    "#plot wnv in 2011 against spray dates\n",
    "ax[1].plot(wnv_2013.index,wnv_2013.values, color='red')\n",
    "for spray_date in spray_2013:\n",
    "    ax[1].axvline(x=spray_date, color='grey', ls='--')\n",
    "ax[1].set_title('WNV Present in 2013')\n",
    "ax[1].legend(['WNV Present','Spray']);"
   ]
  },
  {
   "cell_type": "markdown",
   "id": "f86ab6d9-632a-4e85-a40c-72bfbdb11e52",
   "metadata": {},
   "source": [
    "Only during the spray in the week of 15 July, spraying seemed to have a decrease in the number of mosquitoes and a decrease in the virus. During the rest of the spray, there is either a slight drop or an increase after the spray. \n",
    "\n",
    "Assumption:\n",
    "- These graphs reflected the total mosquitos vs spray. \n",
    "- These graphs reflected the number for the whole of chigaco and not at the area where the spray took place. \n",
    "\n",
    "While it is debatable to conclude that spraying helps with controlling the number of mosquitos and the work, it is highly possible if the number of mosquito will drop if the spray is being deployed at the correct location. "
   ]
  },
  {
   "cell_type": "markdown",
   "id": "b4437b60-98b4-4eed-8d71-052645724ae5",
   "metadata": {},
   "source": [
    "## Predictions\n"
   ]
  },
  {
   "cell_type": "code",
   "execution_count": 13,
   "id": "04e618fe-9029-48a4-975c-955f619e2bfe",
   "metadata": {},
   "outputs": [],
   "source": [
    "# read in the prediction saved from 04_Kaggle_Predictions\n",
    "prediction = pd.read_csv(\"../assets/submission_predictions.csv\")\n",
    "test = pd.read_csv(\"../assets/test.csv\")"
   ]
  },
  {
   "cell_type": "code",
   "execution_count": 14,
   "id": "d6454478-2da8-4726-8575-ed1063bd6d2e",
   "metadata": {},
   "outputs": [
    {
     "name": "stdout",
     "output_type": "stream",
     "text": [
      "(116293, 2)\n"
     ]
    },
    {
     "data": {
      "text/html": [
       "<div>\n",
       "<style scoped>\n",
       "    .dataframe tbody tr th:only-of-type {\n",
       "        vertical-align: middle;\n",
       "    }\n",
       "\n",
       "    .dataframe tbody tr th {\n",
       "        vertical-align: top;\n",
       "    }\n",
       "\n",
       "    .dataframe thead th {\n",
       "        text-align: right;\n",
       "    }\n",
       "</style>\n",
       "<table border=\"1\" class=\"dataframe\">\n",
       "  <thead>\n",
       "    <tr style=\"text-align: right;\">\n",
       "      <th></th>\n",
       "      <th>Id</th>\n",
       "      <th>WnvPresent</th>\n",
       "    </tr>\n",
       "  </thead>\n",
       "  <tbody>\n",
       "    <tr>\n",
       "      <th>0</th>\n",
       "      <td>1</td>\n",
       "      <td>0.319231</td>\n",
       "    </tr>\n",
       "    <tr>\n",
       "      <th>1</th>\n",
       "      <td>2</td>\n",
       "      <td>0.306525</td>\n",
       "    </tr>\n",
       "    <tr>\n",
       "      <th>2</th>\n",
       "      <td>3</td>\n",
       "      <td>0.319231</td>\n",
       "    </tr>\n",
       "    <tr>\n",
       "      <th>3</th>\n",
       "      <td>4</td>\n",
       "      <td>0.291683</td>\n",
       "    </tr>\n",
       "    <tr>\n",
       "      <th>4</th>\n",
       "      <td>5</td>\n",
       "      <td>0.291683</td>\n",
       "    </tr>\n",
       "  </tbody>\n",
       "</table>\n",
       "</div>"
      ],
      "text/plain": [
       "   Id  WnvPresent\n",
       "0   1    0.319231\n",
       "1   2    0.306525\n",
       "2   3    0.319231\n",
       "3   4    0.291683\n",
       "4   5    0.291683"
      ]
     },
     "execution_count": 14,
     "metadata": {},
     "output_type": "execute_result"
    }
   ],
   "source": [
    "# see shape and head\n",
    "print(prediction.shape)\n",
    "prediction.head()"
   ]
  },
  {
   "cell_type": "code",
   "execution_count": 15,
   "id": "e4e68e92-eb45-49f2-9667-84b94e47f87d",
   "metadata": {},
   "outputs": [
    {
     "name": "stdout",
     "output_type": "stream",
     "text": [
      "(116293, 11)\n"
     ]
    },
    {
     "data": {
      "text/html": [
       "<div>\n",
       "<style scoped>\n",
       "    .dataframe tbody tr th:only-of-type {\n",
       "        vertical-align: middle;\n",
       "    }\n",
       "\n",
       "    .dataframe tbody tr th {\n",
       "        vertical-align: top;\n",
       "    }\n",
       "\n",
       "    .dataframe thead th {\n",
       "        text-align: right;\n",
       "    }\n",
       "</style>\n",
       "<table border=\"1\" class=\"dataframe\">\n",
       "  <thead>\n",
       "    <tr style=\"text-align: right;\">\n",
       "      <th></th>\n",
       "      <th>Id</th>\n",
       "      <th>Date</th>\n",
       "      <th>Address</th>\n",
       "      <th>Species</th>\n",
       "      <th>Block</th>\n",
       "      <th>Street</th>\n",
       "      <th>Trap</th>\n",
       "      <th>AddressNumberAndStreet</th>\n",
       "      <th>Latitude</th>\n",
       "      <th>Longitude</th>\n",
       "      <th>AddressAccuracy</th>\n",
       "    </tr>\n",
       "  </thead>\n",
       "  <tbody>\n",
       "    <tr>\n",
       "      <th>0</th>\n",
       "      <td>1</td>\n",
       "      <td>2008-06-11</td>\n",
       "      <td>4100 North Oak Park Avenue, Chicago, IL 60634,...</td>\n",
       "      <td>CULEX PIPIENS/RESTUANS</td>\n",
       "      <td>41</td>\n",
       "      <td>N OAK PARK AVE</td>\n",
       "      <td>T002</td>\n",
       "      <td>4100  N OAK PARK AVE, Chicago, IL</td>\n",
       "      <td>41.95469</td>\n",
       "      <td>-87.800991</td>\n",
       "      <td>9</td>\n",
       "    </tr>\n",
       "    <tr>\n",
       "      <th>1</th>\n",
       "      <td>2</td>\n",
       "      <td>2008-06-11</td>\n",
       "      <td>4100 North Oak Park Avenue, Chicago, IL 60634,...</td>\n",
       "      <td>CULEX RESTUANS</td>\n",
       "      <td>41</td>\n",
       "      <td>N OAK PARK AVE</td>\n",
       "      <td>T002</td>\n",
       "      <td>4100  N OAK PARK AVE, Chicago, IL</td>\n",
       "      <td>41.95469</td>\n",
       "      <td>-87.800991</td>\n",
       "      <td>9</td>\n",
       "    </tr>\n",
       "    <tr>\n",
       "      <th>2</th>\n",
       "      <td>3</td>\n",
       "      <td>2008-06-11</td>\n",
       "      <td>4100 North Oak Park Avenue, Chicago, IL 60634,...</td>\n",
       "      <td>CULEX PIPIENS</td>\n",
       "      <td>41</td>\n",
       "      <td>N OAK PARK AVE</td>\n",
       "      <td>T002</td>\n",
       "      <td>4100  N OAK PARK AVE, Chicago, IL</td>\n",
       "      <td>41.95469</td>\n",
       "      <td>-87.800991</td>\n",
       "      <td>9</td>\n",
       "    </tr>\n",
       "    <tr>\n",
       "      <th>3</th>\n",
       "      <td>4</td>\n",
       "      <td>2008-06-11</td>\n",
       "      <td>4100 North Oak Park Avenue, Chicago, IL 60634,...</td>\n",
       "      <td>CULEX SALINARIUS</td>\n",
       "      <td>41</td>\n",
       "      <td>N OAK PARK AVE</td>\n",
       "      <td>T002</td>\n",
       "      <td>4100  N OAK PARK AVE, Chicago, IL</td>\n",
       "      <td>41.95469</td>\n",
       "      <td>-87.800991</td>\n",
       "      <td>9</td>\n",
       "    </tr>\n",
       "    <tr>\n",
       "      <th>4</th>\n",
       "      <td>5</td>\n",
       "      <td>2008-06-11</td>\n",
       "      <td>4100 North Oak Park Avenue, Chicago, IL 60634,...</td>\n",
       "      <td>CULEX TERRITANS</td>\n",
       "      <td>41</td>\n",
       "      <td>N OAK PARK AVE</td>\n",
       "      <td>T002</td>\n",
       "      <td>4100  N OAK PARK AVE, Chicago, IL</td>\n",
       "      <td>41.95469</td>\n",
       "      <td>-87.800991</td>\n",
       "      <td>9</td>\n",
       "    </tr>\n",
       "  </tbody>\n",
       "</table>\n",
       "</div>"
      ],
      "text/plain": [
       "   Id        Date                                            Address  \\\n",
       "0   1  2008-06-11  4100 North Oak Park Avenue, Chicago, IL 60634,...   \n",
       "1   2  2008-06-11  4100 North Oak Park Avenue, Chicago, IL 60634,...   \n",
       "2   3  2008-06-11  4100 North Oak Park Avenue, Chicago, IL 60634,...   \n",
       "3   4  2008-06-11  4100 North Oak Park Avenue, Chicago, IL 60634,...   \n",
       "4   5  2008-06-11  4100 North Oak Park Avenue, Chicago, IL 60634,...   \n",
       "\n",
       "                  Species  Block           Street  Trap  \\\n",
       "0  CULEX PIPIENS/RESTUANS     41   N OAK PARK AVE  T002   \n",
       "1          CULEX RESTUANS     41   N OAK PARK AVE  T002   \n",
       "2           CULEX PIPIENS     41   N OAK PARK AVE  T002   \n",
       "3        CULEX SALINARIUS     41   N OAK PARK AVE  T002   \n",
       "4         CULEX TERRITANS     41   N OAK PARK AVE  T002   \n",
       "\n",
       "              AddressNumberAndStreet  Latitude  Longitude  AddressAccuracy  \n",
       "0  4100  N OAK PARK AVE, Chicago, IL  41.95469 -87.800991                9  \n",
       "1  4100  N OAK PARK AVE, Chicago, IL  41.95469 -87.800991                9  \n",
       "2  4100  N OAK PARK AVE, Chicago, IL  41.95469 -87.800991                9  \n",
       "3  4100  N OAK PARK AVE, Chicago, IL  41.95469 -87.800991                9  \n",
       "4  4100  N OAK PARK AVE, Chicago, IL  41.95469 -87.800991                9  "
      ]
     },
     "execution_count": 15,
     "metadata": {},
     "output_type": "execute_result"
    }
   ],
   "source": [
    "# see shape and head\n",
    "print(test.shape)\n",
    "test.head()"
   ]
  },
  {
   "cell_type": "code",
   "execution_count": 16,
   "id": "21512160-9502-4cb9-bde6-ba085fb0f5e9",
   "metadata": {},
   "outputs": [
    {
     "name": "stdout",
     "output_type": "stream",
     "text": [
      "<class 'pandas.core.frame.DataFrame'>\n",
      "RangeIndex: 116293 entries, 0 to 116292\n",
      "Data columns (total 2 columns):\n",
      " #   Column      Non-Null Count   Dtype  \n",
      "---  ------      --------------   -----  \n",
      " 0   Id          116293 non-null  int64  \n",
      " 1   WnvPresent  116293 non-null  float64\n",
      "dtypes: float64(1), int64(1)\n",
      "memory usage: 1.8 MB\n"
     ]
    }
   ],
   "source": [
    "# see Dtype and missing data\n",
    "prediction.info()"
   ]
  },
  {
   "cell_type": "code",
   "execution_count": 17,
   "id": "3eeac638-691e-43ae-ade9-76f9eaaf91de",
   "metadata": {},
   "outputs": [
    {
     "name": "stdout",
     "output_type": "stream",
     "text": [
      "<class 'pandas.core.frame.DataFrame'>\n",
      "RangeIndex: 116293 entries, 0 to 116292\n",
      "Data columns (total 11 columns):\n",
      " #   Column                  Non-Null Count   Dtype  \n",
      "---  ------                  --------------   -----  \n",
      " 0   Id                      116293 non-null  int64  \n",
      " 1   Date                    116293 non-null  object \n",
      " 2   Address                 116293 non-null  object \n",
      " 3   Species                 116293 non-null  object \n",
      " 4   Block                   116293 non-null  int64  \n",
      " 5   Street                  116293 non-null  object \n",
      " 6   Trap                    116293 non-null  object \n",
      " 7   AddressNumberAndStreet  116293 non-null  object \n",
      " 8   Latitude                116293 non-null  float64\n",
      " 9   Longitude               116293 non-null  float64\n",
      " 10  AddressAccuracy         116293 non-null  int64  \n",
      "dtypes: float64(2), int64(3), object(6)\n",
      "memory usage: 9.8+ MB\n"
     ]
    }
   ],
   "source": [
    "# see Dtype and missing data\n",
    "test.info()"
   ]
  },
  {
   "cell_type": "code",
   "execution_count": 18,
   "id": "4fdd9ba2-187f-4920-86de-db3e63a12796",
   "metadata": {},
   "outputs": [],
   "source": [
    "# convert the values to 1 or 0 for prediction, with 1 being yes\n",
    "prediction['WnvPresent'] = [0 if prob < 0.5 else 1 for prob in prediction['WnvPresent']]"
   ]
  },
  {
   "cell_type": "code",
   "execution_count": 19,
   "id": "d1908d98-7109-48c6-b76b-ead96003a7a5",
   "metadata": {},
   "outputs": [],
   "source": [
    "# convert the datetime Dtype for test\n",
    "test['Date'] = pd.to_datetime(test['Date'])"
   ]
  },
  {
   "cell_type": "code",
   "execution_count": 20,
   "id": "4407ecb6-fd2b-4302-869e-2cc6136731b3",
   "metadata": {},
   "outputs": [],
   "source": [
    "# merge both dataframe into one\n",
    "prediction = pd.merge(prediction, test, on=\"Id\")"
   ]
  },
  {
   "cell_type": "code",
   "execution_count": 21,
   "id": "dd28a9f9-45de-4073-948c-8dace471cdf8",
   "metadata": {},
   "outputs": [
    {
     "name": "stdout",
     "output_type": "stream",
     "text": [
      "(116293, 12)\n"
     ]
    },
    {
     "data": {
      "text/html": [
       "<div>\n",
       "<style scoped>\n",
       "    .dataframe tbody tr th:only-of-type {\n",
       "        vertical-align: middle;\n",
       "    }\n",
       "\n",
       "    .dataframe tbody tr th {\n",
       "        vertical-align: top;\n",
       "    }\n",
       "\n",
       "    .dataframe thead th {\n",
       "        text-align: right;\n",
       "    }\n",
       "</style>\n",
       "<table border=\"1\" class=\"dataframe\">\n",
       "  <thead>\n",
       "    <tr style=\"text-align: right;\">\n",
       "      <th></th>\n",
       "      <th>Id</th>\n",
       "      <th>WnvPresent</th>\n",
       "      <th>Date</th>\n",
       "      <th>Address</th>\n",
       "      <th>Species</th>\n",
       "      <th>Block</th>\n",
       "      <th>Street</th>\n",
       "      <th>Trap</th>\n",
       "      <th>AddressNumberAndStreet</th>\n",
       "      <th>Latitude</th>\n",
       "      <th>Longitude</th>\n",
       "      <th>AddressAccuracy</th>\n",
       "    </tr>\n",
       "  </thead>\n",
       "  <tbody>\n",
       "    <tr>\n",
       "      <th>0</th>\n",
       "      <td>1</td>\n",
       "      <td>0</td>\n",
       "      <td>2008-06-11</td>\n",
       "      <td>4100 North Oak Park Avenue, Chicago, IL 60634,...</td>\n",
       "      <td>CULEX PIPIENS/RESTUANS</td>\n",
       "      <td>41</td>\n",
       "      <td>N OAK PARK AVE</td>\n",
       "      <td>T002</td>\n",
       "      <td>4100  N OAK PARK AVE, Chicago, IL</td>\n",
       "      <td>41.95469</td>\n",
       "      <td>-87.800991</td>\n",
       "      <td>9</td>\n",
       "    </tr>\n",
       "    <tr>\n",
       "      <th>1</th>\n",
       "      <td>2</td>\n",
       "      <td>0</td>\n",
       "      <td>2008-06-11</td>\n",
       "      <td>4100 North Oak Park Avenue, Chicago, IL 60634,...</td>\n",
       "      <td>CULEX RESTUANS</td>\n",
       "      <td>41</td>\n",
       "      <td>N OAK PARK AVE</td>\n",
       "      <td>T002</td>\n",
       "      <td>4100  N OAK PARK AVE, Chicago, IL</td>\n",
       "      <td>41.95469</td>\n",
       "      <td>-87.800991</td>\n",
       "      <td>9</td>\n",
       "    </tr>\n",
       "    <tr>\n",
       "      <th>2</th>\n",
       "      <td>3</td>\n",
       "      <td>0</td>\n",
       "      <td>2008-06-11</td>\n",
       "      <td>4100 North Oak Park Avenue, Chicago, IL 60634,...</td>\n",
       "      <td>CULEX PIPIENS</td>\n",
       "      <td>41</td>\n",
       "      <td>N OAK PARK AVE</td>\n",
       "      <td>T002</td>\n",
       "      <td>4100  N OAK PARK AVE, Chicago, IL</td>\n",
       "      <td>41.95469</td>\n",
       "      <td>-87.800991</td>\n",
       "      <td>9</td>\n",
       "    </tr>\n",
       "    <tr>\n",
       "      <th>3</th>\n",
       "      <td>4</td>\n",
       "      <td>0</td>\n",
       "      <td>2008-06-11</td>\n",
       "      <td>4100 North Oak Park Avenue, Chicago, IL 60634,...</td>\n",
       "      <td>CULEX SALINARIUS</td>\n",
       "      <td>41</td>\n",
       "      <td>N OAK PARK AVE</td>\n",
       "      <td>T002</td>\n",
       "      <td>4100  N OAK PARK AVE, Chicago, IL</td>\n",
       "      <td>41.95469</td>\n",
       "      <td>-87.800991</td>\n",
       "      <td>9</td>\n",
       "    </tr>\n",
       "    <tr>\n",
       "      <th>4</th>\n",
       "      <td>5</td>\n",
       "      <td>0</td>\n",
       "      <td>2008-06-11</td>\n",
       "      <td>4100 North Oak Park Avenue, Chicago, IL 60634,...</td>\n",
       "      <td>CULEX TERRITANS</td>\n",
       "      <td>41</td>\n",
       "      <td>N OAK PARK AVE</td>\n",
       "      <td>T002</td>\n",
       "      <td>4100  N OAK PARK AVE, Chicago, IL</td>\n",
       "      <td>41.95469</td>\n",
       "      <td>-87.800991</td>\n",
       "      <td>9</td>\n",
       "    </tr>\n",
       "  </tbody>\n",
       "</table>\n",
       "</div>"
      ],
      "text/plain": [
       "   Id  WnvPresent       Date  \\\n",
       "0   1           0 2008-06-11   \n",
       "1   2           0 2008-06-11   \n",
       "2   3           0 2008-06-11   \n",
       "3   4           0 2008-06-11   \n",
       "4   5           0 2008-06-11   \n",
       "\n",
       "                                             Address                 Species  \\\n",
       "0  4100 North Oak Park Avenue, Chicago, IL 60634,...  CULEX PIPIENS/RESTUANS   \n",
       "1  4100 North Oak Park Avenue, Chicago, IL 60634,...          CULEX RESTUANS   \n",
       "2  4100 North Oak Park Avenue, Chicago, IL 60634,...           CULEX PIPIENS   \n",
       "3  4100 North Oak Park Avenue, Chicago, IL 60634,...        CULEX SALINARIUS   \n",
       "4  4100 North Oak Park Avenue, Chicago, IL 60634,...         CULEX TERRITANS   \n",
       "\n",
       "   Block           Street  Trap             AddressNumberAndStreet  Latitude  \\\n",
       "0     41   N OAK PARK AVE  T002  4100  N OAK PARK AVE, Chicago, IL  41.95469   \n",
       "1     41   N OAK PARK AVE  T002  4100  N OAK PARK AVE, Chicago, IL  41.95469   \n",
       "2     41   N OAK PARK AVE  T002  4100  N OAK PARK AVE, Chicago, IL  41.95469   \n",
       "3     41   N OAK PARK AVE  T002  4100  N OAK PARK AVE, Chicago, IL  41.95469   \n",
       "4     41   N OAK PARK AVE  T002  4100  N OAK PARK AVE, Chicago, IL  41.95469   \n",
       "\n",
       "   Longitude  AddressAccuracy  \n",
       "0 -87.800991                9  \n",
       "1 -87.800991                9  \n",
       "2 -87.800991                9  \n",
       "3 -87.800991                9  \n",
       "4 -87.800991                9  "
      ]
     },
     "execution_count": 21,
     "metadata": {},
     "output_type": "execute_result"
    }
   ],
   "source": [
    "# see shape and head\n",
    "print(prediction.shape)\n",
    "prediction.head()"
   ]
  },
  {
   "cell_type": "code",
   "execution_count": 22,
   "id": "6ff15ee4-f39b-4163-adf8-47305f3b7bcb",
   "metadata": {},
   "outputs": [
    {
     "name": "stdout",
     "output_type": "stream",
     "text": [
      "<class 'pandas.core.frame.DataFrame'>\n",
      "Int64Index: 116293 entries, 0 to 116292\n",
      "Data columns (total 12 columns):\n",
      " #   Column                  Non-Null Count   Dtype         \n",
      "---  ------                  --------------   -----         \n",
      " 0   Id                      116293 non-null  int64         \n",
      " 1   WnvPresent              116293 non-null  int64         \n",
      " 2   Date                    116293 non-null  datetime64[ns]\n",
      " 3   Address                 116293 non-null  object        \n",
      " 4   Species                 116293 non-null  object        \n",
      " 5   Block                   116293 non-null  int64         \n",
      " 6   Street                  116293 non-null  object        \n",
      " 7   Trap                    116293 non-null  object        \n",
      " 8   AddressNumberAndStreet  116293 non-null  object        \n",
      " 9   Latitude                116293 non-null  float64       \n",
      " 10  Longitude               116293 non-null  float64       \n",
      " 11  AddressAccuracy         116293 non-null  int64         \n",
      "dtypes: datetime64[ns](1), float64(2), int64(4), object(5)\n",
      "memory usage: 11.5+ MB\n"
     ]
    }
   ],
   "source": [
    "# see Dtype and missing data\n",
    "prediction.info()"
   ]
  },
  {
   "cell_type": "code",
   "execution_count": 23,
   "id": "d7fabd5f-c001-405a-8708-ea3a9ab7e9c2",
   "metadata": {},
   "outputs": [],
   "source": [
    "# create a column of year\n",
    "prediction['year'] = prediction['Date'].dt.year"
   ]
  },
  {
   "cell_type": "code",
   "execution_count": 24,
   "id": "07643b50-f4b5-425b-8fa0-6902cff6e8c7",
   "metadata": {},
   "outputs": [
    {
     "data": {
      "text/plain": [
       "WnvPresent\n",
       "0    107091\n",
       "1      9202\n",
       "Name: Id, dtype: int64"
      ]
     },
     "execution_count": 24,
     "metadata": {},
     "output_type": "execute_result"
    }
   ],
   "source": [
    "# by total\n",
    "prediction.groupby(by=['WnvPresent'])['Id'].count()"
   ]
  },
  {
   "cell_type": "code",
   "execution_count": 25,
   "id": "d8dc845f-e485-4a42-abf6-0aa76d208036",
   "metadata": {},
   "outputs": [
    {
     "data": {
      "text/plain": [
       "year  WnvPresent\n",
       "2008  0             29268\n",
       "      1              1230\n",
       "2010  0             34641\n",
       "      1              1916\n",
       "2012  0             22688\n",
       "      1              4427\n",
       "2014  0             20494\n",
       "      1              1629\n",
       "Name: Id, dtype: int64"
      ]
     },
     "execution_count": 25,
     "metadata": {},
     "output_type": "execute_result"
    }
   ],
   "source": [
    "# by year\n",
    "prediction.groupby(by=['year','WnvPresent'])['Id'].count()"
   ]
  },
  {
   "cell_type": "markdown",
   "id": "e30db391-98ee-46b8-a33e-e03c4c37a47a",
   "metadata": {},
   "source": [
    "We can see that we are predicting a total of 9139 cases in year 2008, 2010, 2012 and 2014. "
   ]
  },
  {
   "cell_type": "markdown",
   "id": "4d1b6d3a-6038-4a93-85aa-19bdd6bc24c2",
   "metadata": {},
   "source": [
    "## Spray Cost\n",
    "\n",
    "The Chicago Department of Public Health (CDPH) is continuing its efforts to combat against the West Nile virus. [[link1](https://www.chicago.gov/city/en/depts/cdph/provdrs/health_protection_and_response/news/2021/july/cdph-conducts-a-comprehensive-mosquito-surveillance-and-control-.html), [link2](https://www.chicago.gov/city/en/depts/cdph/provdrs/healthy_living/news/2021/august/city-to-spray-insecticide-wednesday-to-kill-mosquitoes.html)]\n",
    "\n",
    "The insecticide used by the CDPH ([link](https://www.chicago.gov/city/en/depts/cdph/provdrs/healthy_living/news/2021/august/city-to-spray-insecticide-wednesday-to-kill-mosquitoes.html)) is the [Zenivex E4](https://www.chicago.gov/content/dam/city/depts/cdph/Mosquito-Borne-Diseases/Zenivex.pdf). Zenivex™, is approved for use by the U.S. Environmental Protection Agency and has been widely applied to control mosquitoes in outdoor residential and recreational areas. Only 1.5 fluid ounces (three\n",
    "tablespoons) per acre is applied. \n",
    "\n",
    "Assuming that the price at delaware is similar to chicago ([link](https://bidcondocs.delaware.gov/NAT/NAT_19123-INSECTICIDE_An.pdf)):\n",
    "![zenivex.jpg](../assets/zenivex-price.png)\n",
    "\n",
    "The entire city of Chicago has an area size of 606.60 km2. Chicago has very few water bodies, and the land area size totals to 588.98 km2 (145545 acres)."
   ]
  },
  {
   "cell_type": "code",
   "execution_count": 26,
   "id": "e9d50c2a-51a8-4ee9-b711-b5df0b8eb822",
   "metadata": {},
   "outputs": [
    {
     "name": "stdout",
     "output_type": "stream",
     "text": [
      "1.01953125\n"
     ]
    }
   ],
   "source": [
    "# cost per acre\n",
    "cost_per_acre = 87/128*1.5\n",
    "print(cost_per_acre)"
   ]
  },
  {
   "cell_type": "code",
   "execution_count": 27,
   "id": "cf4b2469-6730-4ff1-965f-a5ec9a0139dd",
   "metadata": {},
   "outputs": [
    {
     "name": "stdout",
     "output_type": "stream",
     "text": [
      "Cost to spray one location per month $1141.88\n",
      "Cost to spray one location per year $13702.50\n"
     ]
    }
   ],
   "source": [
    "# assuming area spray for each exercise is the same\n",
    "# assuming 0.5miles squares * 7 squares being sprayed each month \n",
    "# Area ref - https://www.chicago.gov/content/dam/city/depts/cdph/CDPH/Healthy%20Chicago/SprayZone_T220_08252021.pdf\n",
    "\n",
    "spray_cost_per_location = cost_per_acre * (0.5*0.5*7*640)\n",
    "print(f'Cost to spray one location per month ${spray_cost_per_location:.2f}')\n",
    "print(f'Cost to spray one location per year ${spray_cost_per_location*12:.2f}')"
   ]
  },
  {
   "cell_type": "markdown",
   "id": "9f778531-fc45-4282-8b2b-13e276249bb5",
   "metadata": {},
   "source": [
    "## Hospitalisation cost\n",
    "\n",
    "Looking at the [link](https://www.ncbi.nlm.nih.gov/pmc/articles/PMC3322011/), we see that the cost to treat an infected patient diagnosed with West Nile neuroinvasive disease (WWND) amounts to approx \\$33k per case, excluding the economic cost. \n",
    "\n",
    "For more mild cases where the patient only suffers from West Nile Fever (WNF), the article mentioned the treatment cost is approx \\$167 and \\$135 for diagnostic test. "
   ]
  },
  {
   "cell_type": "code",
   "execution_count": 28,
   "id": "bb911362-aa42-49fd-9e97-966709fa4eb3",
   "metadata": {},
   "outputs": [
    {
     "name": "stdout",
     "output_type": "stream",
     "text": [
      "Medical cost per case for WNF estimated to be $302\n"
     ]
    }
   ],
   "source": [
    "# define the mean value from the range\n",
    "med_cost_per_case = 167+135\n",
    "print(f'Medical cost per case for WNF estimated to be ${med_cost_per_case:.0f}')"
   ]
  },
  {
   "cell_type": "code",
   "execution_count": 29,
   "id": "2035966a-6168-45ea-84c9-dfe63a92fcc4",
   "metadata": {},
   "outputs": [
    {
     "data": {
      "text/html": [
       "<div>\n",
       "<style scoped>\n",
       "    .dataframe tbody tr th:only-of-type {\n",
       "        vertical-align: middle;\n",
       "    }\n",
       "\n",
       "    .dataframe tbody tr th {\n",
       "        vertical-align: top;\n",
       "    }\n",
       "\n",
       "    .dataframe thead th {\n",
       "        text-align: right;\n",
       "    }\n",
       "</style>\n",
       "<table border=\"1\" class=\"dataframe\">\n",
       "  <thead>\n",
       "    <tr style=\"text-align: right;\">\n",
       "      <th></th>\n",
       "      <th>year</th>\n",
       "      <th>WnvPresent</th>\n",
       "      <th>Id</th>\n",
       "    </tr>\n",
       "  </thead>\n",
       "  <tbody>\n",
       "    <tr>\n",
       "      <th>0</th>\n",
       "      <td>2008</td>\n",
       "      <td>0</td>\n",
       "      <td>29268</td>\n",
       "    </tr>\n",
       "    <tr>\n",
       "      <th>1</th>\n",
       "      <td>2008</td>\n",
       "      <td>1</td>\n",
       "      <td>1230</td>\n",
       "    </tr>\n",
       "    <tr>\n",
       "      <th>2</th>\n",
       "      <td>2010</td>\n",
       "      <td>0</td>\n",
       "      <td>34641</td>\n",
       "    </tr>\n",
       "    <tr>\n",
       "      <th>3</th>\n",
       "      <td>2010</td>\n",
       "      <td>1</td>\n",
       "      <td>1916</td>\n",
       "    </tr>\n",
       "    <tr>\n",
       "      <th>4</th>\n",
       "      <td>2012</td>\n",
       "      <td>0</td>\n",
       "      <td>22688</td>\n",
       "    </tr>\n",
       "    <tr>\n",
       "      <th>5</th>\n",
       "      <td>2012</td>\n",
       "      <td>1</td>\n",
       "      <td>4427</td>\n",
       "    </tr>\n",
       "    <tr>\n",
       "      <th>6</th>\n",
       "      <td>2014</td>\n",
       "      <td>0</td>\n",
       "      <td>20494</td>\n",
       "    </tr>\n",
       "    <tr>\n",
       "      <th>7</th>\n",
       "      <td>2014</td>\n",
       "      <td>1</td>\n",
       "      <td>1629</td>\n",
       "    </tr>\n",
       "  </tbody>\n",
       "</table>\n",
       "</div>"
      ],
      "text/plain": [
       "   year  WnvPresent     Id\n",
       "0  2008           0  29268\n",
       "1  2008           1   1230\n",
       "2  2010           0  34641\n",
       "3  2010           1   1916\n",
       "4  2012           0  22688\n",
       "5  2012           1   4427\n",
       "6  2014           0  20494\n",
       "7  2014           1   1629"
      ]
     },
     "execution_count": 29,
     "metadata": {},
     "output_type": "execute_result"
    }
   ],
   "source": [
    "# create dataframe of the number of cases\n",
    "cases_pred = prediction.groupby(by=['year','WnvPresent'])['Id'].count()\n",
    "cases_pred = cases_pred.reset_index()\n",
    "cases_pred"
   ]
  },
  {
   "cell_type": "code",
   "execution_count": 30,
   "id": "6e1cb370-aa4a-4c23-b4a6-53e7c60730cc",
   "metadata": {},
   "outputs": [
    {
     "name": "stdout",
     "output_type": "stream",
     "text": [
      "[371460, 578632, 1336954, 491958]\n"
     ]
    }
   ],
   "source": [
    "# Calculate the medical cost for each year\n",
    "pred_med_cost_year = []\n",
    "for index, row in cases_pred.loc[(cases_pred['WnvPresent'] == 1),['Id']].iterrows():\n",
    "    pred_med_cost_year.append(row[0]*med_cost_per_case)\n",
    "    \n",
    "print(pred_med_cost_year)"
   ]
  },
  {
   "cell_type": "code",
   "execution_count": 31,
   "id": "5ef69de9-c828-445c-8277-a61e3b31d602",
   "metadata": {},
   "outputs": [
    {
     "name": "stdout",
     "output_type": "stream",
     "text": [
      "In year 2008, the medical cost is $371460.00\n",
      "In year 2010, the medical cost is $578632.00\n",
      "In year 2012, the medical cost is $1336954.00\n",
      "In year 2014, the medical cost is $491958.00\n"
     ]
    }
   ],
   "source": [
    "# create list for year\n",
    "year = [2008, 2010, 2012, 2014]\n",
    "\n",
    "# print out cost based on year\n",
    "for i in range(len(year)):\n",
    "    print(f'In year {year[i]}, the medical cost is ${pred_med_cost_year[i]:.2f}')"
   ]
  },
  {
   "cell_type": "markdown",
   "id": "04ac9fc9-d24d-43df-a0f3-214a2acdbdc4",
   "metadata": {},
   "source": [
    "## Summary\n",
    "\n",
    "By using our prediction of our model against the cost that will be incurred if the government were to conduct spraying at 1120 acre a month, we see that the medical cost are much higher compared to using a spray. In fact, the govement can consider to conduct spraying up to 33 different locations to cover 25% of Chicago a month and the medical cost will still be higher (other than for year 2008). "
   ]
  },
  {
   "cell_type": "code",
   "execution_count": 35,
   "id": "1bdc8e14-5052-46ea-b547-a7e0892fbe29",
   "metadata": {},
   "outputs": [
    {
     "name": "stdout",
     "output_type": "stream",
     "text": [
      "For 1 location\n",
      "In year 2008, the medical cost is higher by $357757.50\n",
      "In year 2010, the medical cost is higher by $564929.50\n",
      "In year 2012, the medical cost is higher by $1323251.50\n",
      "In year 2014, the medical cost is higher by $478255.50\n"
     ]
    }
   ],
   "source": [
    "# define number of location\n",
    "num_loc = 1\n",
    "print(f'For {num_loc} location')\n",
    "\n",
    "# define total spray cost\n",
    "total_spray_cost = spray_cost_per_location*12*num_loc\n",
    "\n",
    "# comparing cost\n",
    "for i in range(len(year)):\n",
    "    if pred_med_cost_year[i] > total_spray_cost:\n",
    "        print(f'In year {year[i]}, the medical cost is higher by ${pred_med_cost_year[i] - total_spray_cost:.2f}')\n",
    "    else:\n",
    "        print(f'In year {year[i]}, the spray cost is higher by ${total_spray_cost - pred_med_cost_year[i]:.2f}')"
   ]
  },
  {
   "cell_type": "code",
   "execution_count": 45,
   "id": "bae4cb85-cc40-4849-97c0-13b834b16c98",
   "metadata": {},
   "outputs": [
    {
     "name": "stdout",
     "output_type": "stream",
     "text": [
      "To cover 25%, need to spray 33 locations\n"
     ]
    }
   ],
   "source": [
    "num_loc_target = math.ceil(0.25 / ((0.5*0.5*7*640)/145545))\n",
    "print(f'To cover 25%, need to spray {num_loc_target} locations')"
   ]
  },
  {
   "cell_type": "code",
   "execution_count": 46,
   "id": "d80b65fe-a51f-4706-95e7-f0514ab88ab2",
   "metadata": {},
   "outputs": [
    {
     "name": "stdout",
     "output_type": "stream",
     "text": [
      "For 33 location\n",
      "In year 2008, the spray cost is higher by $80722.50\n",
      "In year 2010, the medical cost is higher by $126449.50\n",
      "In year 2012, the medical cost is higher by $884771.50\n",
      "In year 2014, the medical cost is higher by $39775.50\n"
     ]
    }
   ],
   "source": [
    "# define number of location\n",
    "num_loc = num_loc_target\n",
    "print(f'For {num_loc} location')\n",
    "\n",
    "# define total spray cost\n",
    "total_spray_cost = spray_cost_per_location*12*num_loc\n",
    "\n",
    "# comparing cost\n",
    "for i in range(len(year)):\n",
    "    if pred_med_cost_year[i] > total_spray_cost:\n",
    "        print(f'In year {year[i]}, the medical cost is higher by ${pred_med_cost_year[i] - total_spray_cost:.2f}')\n",
    "    else:\n",
    "        print(f'In year {year[i]}, the spray cost is higher by ${total_spray_cost - pred_med_cost_year[i]:.2f}')"
   ]
  },
  {
   "cell_type": "markdown",
   "id": "7ff148ec-90c2-40cb-a8e6-03725236d85b",
   "metadata": {},
   "source": [
    "This calculation did not factor in the potential economic cost impact the virus has to the economy. Should there be an outbreak, the cost difference will be even larger, and could possibly make up the difference for year 2008.  \n",
    "\n",
    "This suggests that we should choose one of the vector control methods, such as spraying of insecticide to save future costs impacted by the existence of the West Nile Virus.\n",
    "\n",
    "However, mosquito populations can bring about other vector borne diseases such as dengue and malaria. The department should continue the efforts to educate the population on preventive measures that can be taken to prevent the breeding of mosquitos, starting from their own homes. "
   ]
  },
  {
   "cell_type": "code",
   "execution_count": null,
   "id": "8b617680-a77d-42e4-8d2d-b1114ea54dda",
   "metadata": {},
   "outputs": [],
   "source": []
  }
 ],
 "metadata": {
  "kernelspec": {
   "display_name": "Python 3",
   "language": "python",
   "name": "python3"
  },
  "language_info": {
   "codemirror_mode": {
    "name": "ipython",
    "version": 3
   },
   "file_extension": ".py",
   "mimetype": "text/x-python",
   "name": "python",
   "nbconvert_exporter": "python",
   "pygments_lexer": "ipython3",
   "version": "3.8.8"
  }
 },
 "nbformat": 4,
 "nbformat_minor": 5
}
